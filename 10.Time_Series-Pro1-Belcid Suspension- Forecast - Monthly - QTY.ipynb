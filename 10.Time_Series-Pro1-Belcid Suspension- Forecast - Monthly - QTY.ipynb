{
 "cells": [
  {
   "cell_type": "code",
   "execution_count": 1,
   "id": "derived-restoration",
   "metadata": {},
   "outputs": [],
   "source": [
    "import pandas as pd\n",
    "import matplotlib.pyplot as plt \n",
    "import numpy as np\n",
    "from scipy import stats\n",
    "import statsmodels.api as sm\n",
    "from statsmodels.tsa.seasonal import seasonal_decompose\n",
    "import statsmodels"
   ]
  },
  {
   "cell_type": "code",
   "execution_count": 2,
   "id": "african-february",
   "metadata": {},
   "outputs": [],
   "source": [
    "import urllib\n",
    "params ='DRIVER={SQL Server};SERVER=CL-AMILAH\\AMILA;DATABASE=GSH;UID=Amila;Trusted_Connection=yes;'       \n",
    "params = urllib.parse.quote_plus(params)\n",
    "\n",
    "from sqlalchemy import create_engine\n",
    "db = create_engine('mssql+pyodbc:///?odbc_connect=%s' % params)"
   ]
  },
  {
   "cell_type": "code",
   "execution_count": 3,
   "id": "growing-method",
   "metadata": {},
   "outputs": [],
   "source": [
    "sql = '''\n",
    "SELECT inv.[ID] ,inv.SiteUID, [Date] , [OutletUID] ,ot.Name AS outlet ,pr.Description AS province , di.Description AS district \n",
    ", ar.Description AS Area , inv.[AgentUID] ,Concat(emp.FirstName ,' ' , emp.MiddleInitials , ' ', emp.LastName ) AS AgentName , inv.[DistributorUID] , d.Name AS distributor, [ItemUID] ,it.Description AS item, [UnitQty] \n",
    ", [UnitPrice] , [RetailUnitPrice] , [FreeQty] , [FreeCompanyQty] , [GrossValue]\n",
    ",datename(YEAR, Date) AS Year\n",
    ",datename(month, Date) AS MonthName\n",
    ",MONTH(Date) AS Month\n",
    ",datename(DAY, Date) AS Day\n",
    ",DATEPART(DW,Date) AS WeekDay\n",
    ",datename(WEEKDAY, Date) AS DateName\n",
    ",DATEPART (hh,Date) as Hour\n",
    "\n",
    "  FROM [GSH].[dbo].[vw_Invoice] inv\n",
    "  LEFT JOIN [GSH].[dbo].[vw_InvoiceLine] invl\n",
    "  ON inv.siteUID = invl.TxnInvoice_SiteUID AND inv.uid = invl.TxnInvoiceUID\t\n",
    "  LEFT JOIN [GSH].[dbo].[Item] it\n",
    "  ON invl.ItemUID = it.UID\n",
    "  LEFT JOIN [GSH].[dbo].[Outlet] ot\n",
    "  ON inv.OutletUID = ot.UID\n",
    "  LEFT JOIN [GSH].[dbo].[Area] pr\n",
    "  ON ot.ProvinceUID = pr.UID\n",
    "  LEFT JOIN [GSH].[dbo].[Area] di\n",
    "  ON ot.DistrictUID = di.UID\n",
    "  LEFT JOIN [GSH].[dbo].[Area] ar\n",
    "  ON ot.AreaUID = ar.UID\n",
    "  LEFT JOIN [GSH].[dbo].[Distributor] d\n",
    "  ON inv.DistributorUID = d.UID\n",
    "  LEFT JOIN [GSH].[dbo].[avLogin] avlg\n",
    "  ON inv.AgentUID = avlg.BusinessUserUID\n",
    "  LEFT JOIN [GSH].[dbo].[Employee] emp\n",
    "  ON avlg.EmployeeUID = emp.UID\n",
    "  WHERE inv.mpt_TypeEnum IN ( 21 , 44, 14, 1) AND inv.ExpiryDate IS NULL AND inv.SubmittedDate IS NOT NULL\n",
    "  AND Date >= '2018-11-01' AND Date <= '2020-03-01' ;\n",
    "'''\n",
    "\n",
    "invoice_All = pd.read_sql_query(sql, db)"
   ]
  },
  {
   "cell_type": "code",
   "execution_count": 4,
   "id": "median-turning",
   "metadata": {},
   "outputs": [],
   "source": [
    "#disply all the columns\n",
    "pd.set_option('display.max_columns', None)"
   ]
  },
  {
   "cell_type": "code",
   "execution_count": 5,
   "id": "included-russell",
   "metadata": {},
   "outputs": [
    {
     "data": {
      "text/html": [
       "<div>\n",
       "<style scoped>\n",
       "    .dataframe tbody tr th:only-of-type {\n",
       "        vertical-align: middle;\n",
       "    }\n",
       "\n",
       "    .dataframe tbody tr th {\n",
       "        vertical-align: top;\n",
       "    }\n",
       "\n",
       "    .dataframe thead th {\n",
       "        text-align: right;\n",
       "    }\n",
       "</style>\n",
       "<table border=\"1\" class=\"dataframe\">\n",
       "  <thead>\n",
       "    <tr style=\"text-align: right;\">\n",
       "      <th></th>\n",
       "      <th>ID</th>\n",
       "      <th>SiteUID</th>\n",
       "      <th>Date</th>\n",
       "      <th>OutletUID</th>\n",
       "      <th>outlet</th>\n",
       "      <th>province</th>\n",
       "      <th>district</th>\n",
       "      <th>Area</th>\n",
       "      <th>AgentUID</th>\n",
       "      <th>AgentName</th>\n",
       "      <th>DistributorUID</th>\n",
       "      <th>distributor</th>\n",
       "      <th>ItemUID</th>\n",
       "      <th>item</th>\n",
       "      <th>UnitQty</th>\n",
       "      <th>UnitPrice</th>\n",
       "      <th>RetailUnitPrice</th>\n",
       "      <th>FreeQty</th>\n",
       "      <th>FreeCompanyQty</th>\n",
       "      <th>GrossValue</th>\n",
       "      <th>Year</th>\n",
       "      <th>MonthName</th>\n",
       "      <th>Month</th>\n",
       "      <th>Day</th>\n",
       "      <th>WeekDay</th>\n",
       "      <th>DateName</th>\n",
       "      <th>Hour</th>\n",
       "    </tr>\n",
       "  </thead>\n",
       "  <tbody>\n",
       "    <tr>\n",
       "      <th>0</th>\n",
       "      <td>CSO009400497</td>\n",
       "      <td>107</td>\n",
       "      <td>2018-11-21 11:09:20.703</td>\n",
       "      <td>758</td>\n",
       "      <td>Uduwalla  Pharmacy</td>\n",
       "      <td>Western Province</td>\n",
       "      <td>Colombo</td>\n",
       "      <td>Gothatuwa</td>\n",
       "      <td>94</td>\n",
       "      <td>Amith  Shalika</td>\n",
       "      <td>9</td>\n",
       "      <td>Multy Drugs (Pvt) Ltd</td>\n",
       "      <td>29</td>\n",
       "      <td>Caltamin D Tabs-60's</td>\n",
       "      <td>1.0</td>\n",
       "      <td>1315.8</td>\n",
       "      <td>1500.0</td>\n",
       "      <td>0.0</td>\n",
       "      <td>0.0</td>\n",
       "      <td>1315.8</td>\n",
       "      <td>2018</td>\n",
       "      <td>November</td>\n",
       "      <td>11</td>\n",
       "      <td>21</td>\n",
       "      <td>4</td>\n",
       "      <td>Wednesday</td>\n",
       "      <td>11</td>\n",
       "    </tr>\n",
       "    <tr>\n",
       "      <th>1</th>\n",
       "      <td>IN0061000242</td>\n",
       "      <td>0</td>\n",
       "      <td>2018-11-21 11:06:34.347</td>\n",
       "      <td>1970</td>\n",
       "      <td>Poly Clinic</td>\n",
       "      <td>Sabaragamuwa Province</td>\n",
       "      <td>Ratnapura</td>\n",
       "      <td>Embilipitiya</td>\n",
       "      <td>156</td>\n",
       "      <td></td>\n",
       "      <td>10</td>\n",
       "      <td>Multi Pharma</td>\n",
       "      <td>243</td>\n",
       "      <td>Myotan 50mg 100's</td>\n",
       "      <td>2.0</td>\n",
       "      <td>948.7</td>\n",
       "      <td>1081.5</td>\n",
       "      <td>0.0</td>\n",
       "      <td>0.0</td>\n",
       "      <td>1897.4</td>\n",
       "      <td>2018</td>\n",
       "      <td>November</td>\n",
       "      <td>11</td>\n",
       "      <td>21</td>\n",
       "      <td>4</td>\n",
       "      <td>Wednesday</td>\n",
       "      <td>11</td>\n",
       "    </tr>\n",
       "    <tr>\n",
       "      <th>2</th>\n",
       "      <td>IN0061000242</td>\n",
       "      <td>0</td>\n",
       "      <td>2018-11-21 11:06:34.347</td>\n",
       "      <td>1970</td>\n",
       "      <td>Poly Clinic</td>\n",
       "      <td>Sabaragamuwa Province</td>\n",
       "      <td>Ratnapura</td>\n",
       "      <td>Embilipitiya</td>\n",
       "      <td>156</td>\n",
       "      <td></td>\n",
       "      <td>10</td>\n",
       "      <td>Multi Pharma</td>\n",
       "      <td>502</td>\n",
       "      <td>Cilacar Tab's 10mg (30's)</td>\n",
       "      <td>10.0</td>\n",
       "      <td>870.0</td>\n",
       "      <td>990.0</td>\n",
       "      <td>0.0</td>\n",
       "      <td>0.0</td>\n",
       "      <td>8700.0</td>\n",
       "      <td>2018</td>\n",
       "      <td>November</td>\n",
       "      <td>11</td>\n",
       "      <td>21</td>\n",
       "      <td>4</td>\n",
       "      <td>Wednesday</td>\n",
       "      <td>11</td>\n",
       "    </tr>\n",
       "    <tr>\n",
       "      <th>3</th>\n",
       "      <td>CSO009400484</td>\n",
       "      <td>107</td>\n",
       "      <td>2018-11-21 11:37:10.273</td>\n",
       "      <td>741</td>\n",
       "      <td>Angoda  Pharmacy</td>\n",
       "      <td>Western Province</td>\n",
       "      <td>Colombo</td>\n",
       "      <td>Angoda</td>\n",
       "      <td>94</td>\n",
       "      <td>Amith  Shalika</td>\n",
       "      <td>9</td>\n",
       "      <td>Multy Drugs (Pvt) Ltd</td>\n",
       "      <td>20</td>\n",
       "      <td>Fastum Gel 30gm</td>\n",
       "      <td>10.0</td>\n",
       "      <td>501.8</td>\n",
       "      <td>572.0</td>\n",
       "      <td>0.0</td>\n",
       "      <td>0.0</td>\n",
       "      <td>5018.0</td>\n",
       "      <td>2018</td>\n",
       "      <td>November</td>\n",
       "      <td>11</td>\n",
       "      <td>21</td>\n",
       "      <td>4</td>\n",
       "      <td>Wednesday</td>\n",
       "      <td>11</td>\n",
       "    </tr>\n",
       "    <tr>\n",
       "      <th>4</th>\n",
       "      <td>CSO009400484</td>\n",
       "      <td>107</td>\n",
       "      <td>2018-11-21 11:37:10.273</td>\n",
       "      <td>741</td>\n",
       "      <td>Angoda  Pharmacy</td>\n",
       "      <td>Western Province</td>\n",
       "      <td>Colombo</td>\n",
       "      <td>Angoda</td>\n",
       "      <td>94</td>\n",
       "      <td>Amith  Shalika</td>\n",
       "      <td>9</td>\n",
       "      <td>Multy Drugs (Pvt) Ltd</td>\n",
       "      <td>20</td>\n",
       "      <td>Fastum Gel 30gm</td>\n",
       "      <td>0.0</td>\n",
       "      <td>501.8</td>\n",
       "      <td>572.0</td>\n",
       "      <td>2.0</td>\n",
       "      <td>2.0</td>\n",
       "      <td>0.0</td>\n",
       "      <td>2018</td>\n",
       "      <td>November</td>\n",
       "      <td>11</td>\n",
       "      <td>21</td>\n",
       "      <td>4</td>\n",
       "      <td>Wednesday</td>\n",
       "      <td>11</td>\n",
       "    </tr>\n",
       "  </tbody>\n",
       "</table>\n",
       "</div>"
      ],
      "text/plain": [
       "             ID  SiteUID                    Date  OutletUID  \\\n",
       "0  CSO009400497      107 2018-11-21 11:09:20.703        758   \n",
       "1  IN0061000242        0 2018-11-21 11:06:34.347       1970   \n",
       "2  IN0061000242        0 2018-11-21 11:06:34.347       1970   \n",
       "3  CSO009400484      107 2018-11-21 11:37:10.273        741   \n",
       "4  CSO009400484      107 2018-11-21 11:37:10.273        741   \n",
       "\n",
       "               outlet               province   district          Area  \\\n",
       "0  Uduwalla  Pharmacy       Western Province    Colombo     Gothatuwa   \n",
       "1         Poly Clinic  Sabaragamuwa Province  Ratnapura  Embilipitiya   \n",
       "2         Poly Clinic  Sabaragamuwa Province  Ratnapura  Embilipitiya   \n",
       "3    Angoda  Pharmacy       Western Province    Colombo        Angoda   \n",
       "4    Angoda  Pharmacy       Western Province    Colombo        Angoda   \n",
       "\n",
       "   AgentUID       AgentName  DistributorUID            distributor  ItemUID  \\\n",
       "0        94  Amith  Shalika               9  Multy Drugs (Pvt) Ltd       29   \n",
       "1       156                              10           Multi Pharma      243   \n",
       "2       156                              10           Multi Pharma      502   \n",
       "3        94  Amith  Shalika               9  Multy Drugs (Pvt) Ltd       20   \n",
       "4        94  Amith  Shalika               9  Multy Drugs (Pvt) Ltd       20   \n",
       "\n",
       "                        item  UnitQty  UnitPrice  RetailUnitPrice  FreeQty  \\\n",
       "0       Caltamin D Tabs-60's      1.0     1315.8           1500.0      0.0   \n",
       "1          Myotan 50mg 100's      2.0      948.7           1081.5      0.0   \n",
       "2  Cilacar Tab's 10mg (30's)     10.0      870.0            990.0      0.0   \n",
       "3            Fastum Gel 30gm     10.0      501.8            572.0      0.0   \n",
       "4            Fastum Gel 30gm      0.0      501.8            572.0      2.0   \n",
       "\n",
       "   FreeCompanyQty  GrossValue  Year MonthName  Month Day  WeekDay   DateName  \\\n",
       "0             0.0      1315.8  2018  November     11  21        4  Wednesday   \n",
       "1             0.0      1897.4  2018  November     11  21        4  Wednesday   \n",
       "2             0.0      8700.0  2018  November     11  21        4  Wednesday   \n",
       "3             0.0      5018.0  2018  November     11  21        4  Wednesday   \n",
       "4             2.0         0.0  2018  November     11  21        4  Wednesday   \n",
       "\n",
       "   Hour  \n",
       "0    11  \n",
       "1    11  \n",
       "2    11  \n",
       "3    11  \n",
       "4    11  "
      ]
     },
     "execution_count": 5,
     "metadata": {},
     "output_type": "execute_result"
    }
   ],
   "source": [
    "invoice_All.head()"
   ]
  },
  {
   "cell_type": "markdown",
   "id": "imported-blink",
   "metadata": {},
   "source": [
    "### Select the most selling product to identify the time series prediction"
   ]
  },
  {
   "cell_type": "code",
   "execution_count": 6,
   "id": "creative-massage",
   "metadata": {},
   "outputs": [],
   "source": [
    "# select product sales records \n",
    "#Belcid Suspension 240ml top 1 product - based on unit qty\n",
    "Pro1_invoice_All = invoice_All.loc[invoice_All['ItemUID'] == 25]"
   ]
  },
  {
   "cell_type": "code",
   "execution_count": 12,
   "id": "ongoing-vietnamese",
   "metadata": {},
   "outputs": [
    {
     "data": {
      "text/html": [
       "<div>\n",
       "<style scoped>\n",
       "    .dataframe tbody tr th:only-of-type {\n",
       "        vertical-align: middle;\n",
       "    }\n",
       "\n",
       "    .dataframe tbody tr th {\n",
       "        vertical-align: top;\n",
       "    }\n",
       "\n",
       "    .dataframe thead th {\n",
       "        text-align: right;\n",
       "    }\n",
       "</style>\n",
       "<table border=\"1\" class=\"dataframe\">\n",
       "  <thead>\n",
       "    <tr style=\"text-align: right;\">\n",
       "      <th></th>\n",
       "      <th>ID</th>\n",
       "      <th>SiteUID</th>\n",
       "      <th>Date</th>\n",
       "      <th>OutletUID</th>\n",
       "      <th>outlet</th>\n",
       "      <th>province</th>\n",
       "      <th>district</th>\n",
       "      <th>Area</th>\n",
       "      <th>AgentUID</th>\n",
       "      <th>AgentName</th>\n",
       "      <th>DistributorUID</th>\n",
       "      <th>distributor</th>\n",
       "      <th>ItemUID</th>\n",
       "      <th>item</th>\n",
       "      <th>UnitQty</th>\n",
       "      <th>UnitPrice</th>\n",
       "      <th>RetailUnitPrice</th>\n",
       "      <th>FreeQty</th>\n",
       "      <th>FreeCompanyQty</th>\n",
       "      <th>GrossValue</th>\n",
       "      <th>Year</th>\n",
       "      <th>MonthName</th>\n",
       "      <th>Month</th>\n",
       "      <th>Day</th>\n",
       "      <th>WeekDay</th>\n",
       "      <th>DateName</th>\n",
       "      <th>Hour</th>\n",
       "      <th>Year_Week</th>\n",
       "      <th>Month_Start</th>\n",
       "    </tr>\n",
       "  </thead>\n",
       "  <tbody>\n",
       "    <tr>\n",
       "      <th>9</th>\n",
       "      <td>IN0061000242</td>\n",
       "      <td>0</td>\n",
       "      <td>2018-11-21 11:06:34.347</td>\n",
       "      <td>1970</td>\n",
       "      <td>Poly Clinic</td>\n",
       "      <td>Sabaragamuwa Province</td>\n",
       "      <td>Ratnapura</td>\n",
       "      <td>Embilipitiya</td>\n",
       "      <td>156</td>\n",
       "      <td></td>\n",
       "      <td>10</td>\n",
       "      <td>Multi Pharma</td>\n",
       "      <td>25</td>\n",
       "      <td>Belcid Suspension 240ml</td>\n",
       "      <td>24.0</td>\n",
       "      <td>238.7</td>\n",
       "      <td>272.0</td>\n",
       "      <td>0.0</td>\n",
       "      <td>0.0</td>\n",
       "      <td>5728.8</td>\n",
       "      <td>2018</td>\n",
       "      <td>November</td>\n",
       "      <td>11</td>\n",
       "      <td>21</td>\n",
       "      <td>4</td>\n",
       "      <td>Wednesday</td>\n",
       "      <td>11</td>\n",
       "      <td>2018-46</td>\n",
       "      <td>2018-11-01</td>\n",
       "    </tr>\n",
       "    <tr>\n",
       "      <th>10</th>\n",
       "      <td>IN0061000242</td>\n",
       "      <td>0</td>\n",
       "      <td>2018-11-21 11:06:34.347</td>\n",
       "      <td>1970</td>\n",
       "      <td>Poly Clinic</td>\n",
       "      <td>Sabaragamuwa Province</td>\n",
       "      <td>Ratnapura</td>\n",
       "      <td>Embilipitiya</td>\n",
       "      <td>156</td>\n",
       "      <td></td>\n",
       "      <td>10</td>\n",
       "      <td>Multi Pharma</td>\n",
       "      <td>25</td>\n",
       "      <td>Belcid Suspension 240ml</td>\n",
       "      <td>0.0</td>\n",
       "      <td>238.7</td>\n",
       "      <td>272.0</td>\n",
       "      <td>2.0</td>\n",
       "      <td>7.0</td>\n",
       "      <td>0.0</td>\n",
       "      <td>2018</td>\n",
       "      <td>November</td>\n",
       "      <td>11</td>\n",
       "      <td>21</td>\n",
       "      <td>4</td>\n",
       "      <td>Wednesday</td>\n",
       "      <td>11</td>\n",
       "      <td>2018-46</td>\n",
       "      <td>2018-11-01</td>\n",
       "    </tr>\n",
       "    <tr>\n",
       "      <th>13</th>\n",
       "      <td>CSO009000457</td>\n",
       "      <td>108</td>\n",
       "      <td>2018-11-21 13:08:11.017</td>\n",
       "      <td>1373</td>\n",
       "      <td>Galewela New Pharmacy</td>\n",
       "      <td>Central Province</td>\n",
       "      <td>Matale</td>\n",
       "      <td>Galewela</td>\n",
       "      <td>90</td>\n",
       "      <td>Dinesh  Indika</td>\n",
       "      <td>7</td>\n",
       "      <td>Isuru Pharmaceuticals</td>\n",
       "      <td>25</td>\n",
       "      <td>Belcid Suspension 240ml</td>\n",
       "      <td>10.0</td>\n",
       "      <td>238.7</td>\n",
       "      <td>272.0</td>\n",
       "      <td>0.0</td>\n",
       "      <td>0.0</td>\n",
       "      <td>2387.0</td>\n",
       "      <td>2018</td>\n",
       "      <td>November</td>\n",
       "      <td>11</td>\n",
       "      <td>21</td>\n",
       "      <td>4</td>\n",
       "      <td>Wednesday</td>\n",
       "      <td>13</td>\n",
       "      <td>2018-46</td>\n",
       "      <td>2018-11-01</td>\n",
       "    </tr>\n",
       "    <tr>\n",
       "      <th>14</th>\n",
       "      <td>CSO009000457</td>\n",
       "      <td>108</td>\n",
       "      <td>2018-11-21 13:08:11.017</td>\n",
       "      <td>1373</td>\n",
       "      <td>Galewela New Pharmacy</td>\n",
       "      <td>Central Province</td>\n",
       "      <td>Matale</td>\n",
       "      <td>Galewela</td>\n",
       "      <td>90</td>\n",
       "      <td>Dinesh  Indika</td>\n",
       "      <td>7</td>\n",
       "      <td>Isuru Pharmaceuticals</td>\n",
       "      <td>25</td>\n",
       "      <td>Belcid Suspension 240ml</td>\n",
       "      <td>0.0</td>\n",
       "      <td>238.7</td>\n",
       "      <td>272.0</td>\n",
       "      <td>3.0</td>\n",
       "      <td>3.0</td>\n",
       "      <td>0.0</td>\n",
       "      <td>2018</td>\n",
       "      <td>November</td>\n",
       "      <td>11</td>\n",
       "      <td>21</td>\n",
       "      <td>4</td>\n",
       "      <td>Wednesday</td>\n",
       "      <td>13</td>\n",
       "      <td>2018-46</td>\n",
       "      <td>2018-11-01</td>\n",
       "    </tr>\n",
       "    <tr>\n",
       "      <th>16</th>\n",
       "      <td>CSO009000465</td>\n",
       "      <td>108</td>\n",
       "      <td>2018-11-21 14:14:32.280</td>\n",
       "      <td>1372</td>\n",
       "      <td>Sugath Pharmacy</td>\n",
       "      <td>Central Province</td>\n",
       "      <td>Matale</td>\n",
       "      <td>Dambulla</td>\n",
       "      <td>90</td>\n",
       "      <td>Dinesh  Indika</td>\n",
       "      <td>7</td>\n",
       "      <td>Isuru Pharmaceuticals</td>\n",
       "      <td>25</td>\n",
       "      <td>Belcid Suspension 240ml</td>\n",
       "      <td>10.0</td>\n",
       "      <td>238.7</td>\n",
       "      <td>272.0</td>\n",
       "      <td>0.0</td>\n",
       "      <td>0.0</td>\n",
       "      <td>2387.0</td>\n",
       "      <td>2018</td>\n",
       "      <td>November</td>\n",
       "      <td>11</td>\n",
       "      <td>21</td>\n",
       "      <td>4</td>\n",
       "      <td>Wednesday</td>\n",
       "      <td>14</td>\n",
       "      <td>2018-46</td>\n",
       "      <td>2018-11-01</td>\n",
       "    </tr>\n",
       "  </tbody>\n",
       "</table>\n",
       "</div>"
      ],
      "text/plain": [
       "              ID  SiteUID                    Date  OutletUID  \\\n",
       "9   IN0061000242        0 2018-11-21 11:06:34.347       1970   \n",
       "10  IN0061000242        0 2018-11-21 11:06:34.347       1970   \n",
       "13  CSO009000457      108 2018-11-21 13:08:11.017       1373   \n",
       "14  CSO009000457      108 2018-11-21 13:08:11.017       1373   \n",
       "16  CSO009000465      108 2018-11-21 14:14:32.280       1372   \n",
       "\n",
       "                   outlet               province   district          Area  \\\n",
       "9             Poly Clinic  Sabaragamuwa Province  Ratnapura  Embilipitiya   \n",
       "10            Poly Clinic  Sabaragamuwa Province  Ratnapura  Embilipitiya   \n",
       "13  Galewela New Pharmacy       Central Province     Matale      Galewela   \n",
       "14  Galewela New Pharmacy       Central Province     Matale      Galewela   \n",
       "16        Sugath Pharmacy       Central Province     Matale      Dambulla   \n",
       "\n",
       "    AgentUID       AgentName  DistributorUID            distributor  ItemUID  \\\n",
       "9        156                              10           Multi Pharma       25   \n",
       "10       156                              10           Multi Pharma       25   \n",
       "13        90  Dinesh  Indika               7  Isuru Pharmaceuticals       25   \n",
       "14        90  Dinesh  Indika               7  Isuru Pharmaceuticals       25   \n",
       "16        90  Dinesh  Indika               7  Isuru Pharmaceuticals       25   \n",
       "\n",
       "                       item  UnitQty  UnitPrice  RetailUnitPrice  FreeQty  \\\n",
       "9   Belcid Suspension 240ml     24.0      238.7            272.0      0.0   \n",
       "10  Belcid Suspension 240ml      0.0      238.7            272.0      2.0   \n",
       "13  Belcid Suspension 240ml     10.0      238.7            272.0      0.0   \n",
       "14  Belcid Suspension 240ml      0.0      238.7            272.0      3.0   \n",
       "16  Belcid Suspension 240ml     10.0      238.7            272.0      0.0   \n",
       "\n",
       "    FreeCompanyQty  GrossValue  Year MonthName  Month Day  WeekDay   DateName  \\\n",
       "9              0.0      5728.8  2018  November     11  21        4  Wednesday   \n",
       "10             7.0         0.0  2018  November     11  21        4  Wednesday   \n",
       "13             0.0      2387.0  2018  November     11  21        4  Wednesday   \n",
       "14             3.0         0.0  2018  November     11  21        4  Wednesday   \n",
       "16             0.0      2387.0  2018  November     11  21        4  Wednesday   \n",
       "\n",
       "    Hour Year_Week Month_Start  \n",
       "9     11   2018-46  2018-11-01  \n",
       "10    11   2018-46  2018-11-01  \n",
       "13    13   2018-46  2018-11-01  \n",
       "14    13   2018-46  2018-11-01  \n",
       "16    14   2018-46  2018-11-01  "
      ]
     },
     "execution_count": 12,
     "metadata": {},
     "output_type": "execute_result"
    }
   ],
   "source": [
    "Pro1_invoice_All.head()"
   ]
  },
  {
   "cell_type": "code",
   "execution_count": 11,
   "id": "sporting-blink",
   "metadata": {},
   "outputs": [
    {
     "name": "stderr",
     "output_type": "stream",
     "text": [
      "<ipython-input-11-c4fbec0aed88>:2: SettingWithCopyWarning: \n",
      "A value is trying to be set on a copy of a slice from a DataFrame.\n",
      "Try using .loc[row_indexer,col_indexer] = value instead\n",
      "\n",
      "See the caveats in the documentation: https://pandas.pydata.org/pandas-docs/stable/user_guide/indexing.html#returning-a-view-versus-a-copy\n",
      "  Pro1_invoice_All['Month_Start'] = Pro1_invoice_All['Date'].to_numpy().astype('datetime64[M]')\n"
     ]
    }
   ],
   "source": [
    " #get date from date time\n",
    "Pro1_invoice_All['Month_Start'] = Pro1_invoice_All['Date'].to_numpy().astype('datetime64[M]')"
   ]
  },
  {
   "cell_type": "code",
   "execution_count": 13,
   "id": "statistical-client",
   "metadata": {},
   "outputs": [],
   "source": [
    "Pro1_inv_grp = Pro1_invoice_All.groupby(\"Month_Start\").agg({'UnitQty':'sum'}).reset_index()"
   ]
  },
  {
   "cell_type": "code",
   "execution_count": 14,
   "id": "vietnamese-routine",
   "metadata": {},
   "outputs": [
    {
     "data": {
      "text/html": [
       "<div>\n",
       "<style scoped>\n",
       "    .dataframe tbody tr th:only-of-type {\n",
       "        vertical-align: middle;\n",
       "    }\n",
       "\n",
       "    .dataframe tbody tr th {\n",
       "        vertical-align: top;\n",
       "    }\n",
       "\n",
       "    .dataframe thead th {\n",
       "        text-align: right;\n",
       "    }\n",
       "</style>\n",
       "<table border=\"1\" class=\"dataframe\">\n",
       "  <thead>\n",
       "    <tr style=\"text-align: right;\">\n",
       "      <th></th>\n",
       "      <th>Month_Start</th>\n",
       "      <th>UnitQty</th>\n",
       "    </tr>\n",
       "  </thead>\n",
       "  <tbody>\n",
       "    <tr>\n",
       "      <th>0</th>\n",
       "      <td>2018-11-01</td>\n",
       "      <td>37846.0</td>\n",
       "    </tr>\n",
       "    <tr>\n",
       "      <th>1</th>\n",
       "      <td>2018-12-01</td>\n",
       "      <td>29781.0</td>\n",
       "    </tr>\n",
       "    <tr>\n",
       "      <th>2</th>\n",
       "      <td>2019-01-01</td>\n",
       "      <td>30261.0</td>\n",
       "    </tr>\n",
       "    <tr>\n",
       "      <th>3</th>\n",
       "      <td>2019-02-01</td>\n",
       "      <td>29913.0</td>\n",
       "    </tr>\n",
       "    <tr>\n",
       "      <th>4</th>\n",
       "      <td>2019-03-01</td>\n",
       "      <td>25340.0</td>\n",
       "    </tr>\n",
       "    <tr>\n",
       "      <th>5</th>\n",
       "      <td>2019-04-01</td>\n",
       "      <td>22598.0</td>\n",
       "    </tr>\n",
       "    <tr>\n",
       "      <th>6</th>\n",
       "      <td>2019-05-01</td>\n",
       "      <td>43593.0</td>\n",
       "    </tr>\n",
       "    <tr>\n",
       "      <th>7</th>\n",
       "      <td>2019-06-01</td>\n",
       "      <td>28607.0</td>\n",
       "    </tr>\n",
       "    <tr>\n",
       "      <th>8</th>\n",
       "      <td>2019-07-01</td>\n",
       "      <td>24155.0</td>\n",
       "    </tr>\n",
       "    <tr>\n",
       "      <th>9</th>\n",
       "      <td>2019-08-01</td>\n",
       "      <td>24771.0</td>\n",
       "    </tr>\n",
       "    <tr>\n",
       "      <th>10</th>\n",
       "      <td>2019-09-01</td>\n",
       "      <td>23450.0</td>\n",
       "    </tr>\n",
       "    <tr>\n",
       "      <th>11</th>\n",
       "      <td>2019-10-01</td>\n",
       "      <td>29691.0</td>\n",
       "    </tr>\n",
       "    <tr>\n",
       "      <th>12</th>\n",
       "      <td>2019-11-01</td>\n",
       "      <td>24241.0</td>\n",
       "    </tr>\n",
       "    <tr>\n",
       "      <th>13</th>\n",
       "      <td>2019-12-01</td>\n",
       "      <td>26979.0</td>\n",
       "    </tr>\n",
       "    <tr>\n",
       "      <th>14</th>\n",
       "      <td>2020-01-01</td>\n",
       "      <td>24827.0</td>\n",
       "    </tr>\n",
       "    <tr>\n",
       "      <th>15</th>\n",
       "      <td>2020-02-01</td>\n",
       "      <td>23521.0</td>\n",
       "    </tr>\n",
       "  </tbody>\n",
       "</table>\n",
       "</div>"
      ],
      "text/plain": [
       "   Month_Start  UnitQty\n",
       "0   2018-11-01  37846.0\n",
       "1   2018-12-01  29781.0\n",
       "2   2019-01-01  30261.0\n",
       "3   2019-02-01  29913.0\n",
       "4   2019-03-01  25340.0\n",
       "5   2019-04-01  22598.0\n",
       "6   2019-05-01  43593.0\n",
       "7   2019-06-01  28607.0\n",
       "8   2019-07-01  24155.0\n",
       "9   2019-08-01  24771.0\n",
       "10  2019-09-01  23450.0\n",
       "11  2019-10-01  29691.0\n",
       "12  2019-11-01  24241.0\n",
       "13  2019-12-01  26979.0\n",
       "14  2020-01-01  24827.0\n",
       "15  2020-02-01  23521.0"
      ]
     },
     "execution_count": 14,
     "metadata": {},
     "output_type": "execute_result"
    }
   ],
   "source": [
    "Pro1_inv_grp "
   ]
  },
  {
   "cell_type": "code",
   "execution_count": 16,
   "id": "universal-convergence",
   "metadata": {},
   "outputs": [
    {
     "data": {
      "image/png": "[encoded data removed]",
      "text/plain": [
       "<Figure size 1080x360 with 1 Axes>"
      ]
     },
     "metadata": {
      "needs_background": "light"
     },
     "output_type": "display_data"
    }
   ],
   "source": [
    "plt.scatter(Pro1_inv_grp.Month_Start , Pro1_inv_grp.UnitQty , alpha=0.3,cmap='viridis')\n",
    "plt.xlabel(\"Month\")\n",
    "plt.xticks (rotation='vertical', size=8)\n",
    "plt.ylabel(\"QTY sales\")\n",
    "plt.title(\"QTY sales \")\n",
    "plt.rcParams['figure.figsize'] = [15, 5]\n",
    "plt.show()"
   ]
  },
  {
   "cell_type": "code",
   "execution_count": 17,
   "id": "wrong-bracelet",
   "metadata": {},
   "outputs": [
    {
     "data": {
      "image/png": "[encoded data removed]",
      "text/plain": [
       "<Figure size 1080x360 with 1 Axes>"
      ]
     },
     "metadata": {
      "needs_background": "light"
     },
     "output_type": "display_data"
    }
   ],
   "source": [
    "Pro1_inv_grp.plot(kind = 'line', x = 'Month_Start', y = 'UnitQty')\n",
    "plt.show()"
   ]
  },
  {
   "cell_type": "code",
   "execution_count": null,
   "id": "polish-melbourne",
   "metadata": {},
   "outputs": [],
   "source": []
  },
  {
   "cell_type": "code",
   "execution_count": 18,
   "id": "innovative-retailer",
   "metadata": {},
   "outputs": [],
   "source": [
    "# remove z score > 3 \n",
    "Pro1_inv_grp = Pro1_inv_grp[(np.abs(stats.zscore(Pro1_inv_grp[\"UnitQty\"])) < 3)]"
   ]
  },
  {
   "cell_type": "code",
   "execution_count": 19,
   "id": "brave-cologne",
   "metadata": {},
   "outputs": [
    {
     "data": {
      "image/png": "[encoded data removed]",
      "text/plain": [
       "<Figure size 1080x360 with 1 Axes>"
      ]
     },
     "metadata": {
      "needs_background": "light"
     },
     "output_type": "display_data"
    }
   ],
   "source": [
    "plt.scatter(Pro1_inv_grp.Month_Start , Pro1_inv_grp.UnitQty , alpha=0.3,cmap='viridis')\n",
    "plt.xlabel(\"Month_Start\")\n",
    "plt.xticks (rotation='vertical', size=8)\n",
    "plt.ylabel(\"QTY sales\")\n",
    "plt.title(\"QTY sales \")\n",
    "plt.rcParams['figure.figsize'] = [15, 5]\n",
    "plt.show()"
   ]
  },
  {
   "cell_type": "code",
   "execution_count": 20,
   "id": "willing-michigan",
   "metadata": {},
   "outputs": [
    {
     "data": {
      "image/png": "[encoded data removed]",
      "text/plain": [
       "<Figure size 1080x360 with 1 Axes>"
      ]
     },
     "metadata": {
      "needs_background": "light"
     },
     "output_type": "display_data"
    }
   ],
   "source": [
    "Pro1_inv_grp.plot(kind = 'line', x = 'Month_Start', y = 'UnitQty')\n",
    "plt.show()"
   ]
  },
  {
   "cell_type": "code",
   "execution_count": null,
   "id": "approved-westminster",
   "metadata": {},
   "outputs": [],
   "source": []
  },
  {
   "cell_type": "code",
   "execution_count": 23,
   "id": "silent-desperate",
   "metadata": {},
   "outputs": [
    {
     "data": {
      "image/png": "[encoded data removed]",
      "text/plain": [
       "<Figure size 1080x360 with 4 Axes>"
      ]
     },
     "metadata": {
      "needs_background": "light"
     },
     "output_type": "display_data"
    }
   ],
   "source": [
    "decomposition = seasonal_decompose(Pro1_inv_grp['UnitQty'], period =1)\n",
    "decomposition.plot()\n",
    "plt.show()"
   ]
  },
  {
   "cell_type": "code",
   "execution_count": null,
   "id": "proud-heritage",
   "metadata": {},
   "outputs": [],
   "source": []
  },
  {
   "cell_type": "code",
   "execution_count": 24,
   "id": "controversial-destruction",
   "metadata": {
    "scrolled": true
   },
   "outputs": [
    {
     "data": {
      "image/png": "[encoded data removed]",
      "text/plain": [
       "<Figure size 1080x360 with 4 Axes>"
      ]
     },
     "metadata": {
      "needs_background": "light"
     },
     "output_type": "display_data"
    }
   ],
   "source": [
    "decomposition = seasonal_decompose(Pro1_inv_grp['UnitQty'], period =4)\n",
    "decomposition.plot()\n",
    "plt.show()"
   ]
  },
  {
   "cell_type": "code",
   "execution_count": null,
   "id": "organizational-politics",
   "metadata": {},
   "outputs": [],
   "source": []
  },
  {
   "cell_type": "code",
   "execution_count": 25,
   "id": "affected-beach",
   "metadata": {},
   "outputs": [
    {
     "name": "stdout",
     "output_type": "stream",
     "text": [
      "Test Statistic                -6.536608e+00\n",
      "p-value                        9.573860e-09\n",
      "#Lags Used                     6.000000e+00\n",
      "Number of Observations Used    9.000000e+00\n",
      "Critical Value (1%)           -4.473135e+00\n",
      "Critical Value (5%)           -3.289881e+00\n",
      "Critical Value (10%)          -2.772382e+00\n",
      "dtype: float64\n"
     ]
    }
   ],
   "source": [
    "from statsmodels.tsa.stattools import adfuller\n",
    "dftest = adfuller(Pro1_inv_grp['UnitQty'])\n",
    "dfoutput = pd.Series(dftest[0:4], index=['Test Statistic','p-value','#Lags Used','Number of Observations Used'])\n",
    "for key, value in dftest[4].items():\n",
    "    dfoutput['Critical Value (%s)'%key] = value\n",
    "print(dfoutput)"
   ]
  },
  {
   "cell_type": "code",
   "execution_count": null,
   "id": "arabic-miami",
   "metadata": {},
   "outputs": [],
   "source": []
  },
  {
   "cell_type": "code",
   "execution_count": 26,
   "id": "ancient-lafayette",
   "metadata": {},
   "outputs": [
    {
     "data": {
      "text/html": [
       "<div>\n",
       "<style scoped>\n",
       "    .dataframe tbody tr th:only-of-type {\n",
       "        vertical-align: middle;\n",
       "    }\n",
       "\n",
       "    .dataframe tbody tr th {\n",
       "        vertical-align: top;\n",
       "    }\n",
       "\n",
       "    .dataframe thead th {\n",
       "        text-align: right;\n",
       "    }\n",
       "</style>\n",
       "<table border=\"1\" class=\"dataframe\">\n",
       "  <thead>\n",
       "    <tr style=\"text-align: right;\">\n",
       "      <th></th>\n",
       "      <th>Month_Start</th>\n",
       "      <th>UnitQty</th>\n",
       "    </tr>\n",
       "  </thead>\n",
       "  <tbody>\n",
       "    <tr>\n",
       "      <th>0</th>\n",
       "      <td>2018-11-01</td>\n",
       "      <td>37846.0</td>\n",
       "    </tr>\n",
       "    <tr>\n",
       "      <th>1</th>\n",
       "      <td>2018-12-01</td>\n",
       "      <td>29781.0</td>\n",
       "    </tr>\n",
       "    <tr>\n",
       "      <th>2</th>\n",
       "      <td>2019-01-01</td>\n",
       "      <td>30261.0</td>\n",
       "    </tr>\n",
       "    <tr>\n",
       "      <th>3</th>\n",
       "      <td>2019-02-01</td>\n",
       "      <td>29913.0</td>\n",
       "    </tr>\n",
       "    <tr>\n",
       "      <th>4</th>\n",
       "      <td>2019-03-01</td>\n",
       "      <td>25340.0</td>\n",
       "    </tr>\n",
       "    <tr>\n",
       "      <th>5</th>\n",
       "      <td>2019-04-01</td>\n",
       "      <td>22598.0</td>\n",
       "    </tr>\n",
       "    <tr>\n",
       "      <th>6</th>\n",
       "      <td>2019-05-01</td>\n",
       "      <td>43593.0</td>\n",
       "    </tr>\n",
       "    <tr>\n",
       "      <th>7</th>\n",
       "      <td>2019-06-01</td>\n",
       "      <td>28607.0</td>\n",
       "    </tr>\n",
       "    <tr>\n",
       "      <th>8</th>\n",
       "      <td>2019-07-01</td>\n",
       "      <td>24155.0</td>\n",
       "    </tr>\n",
       "    <tr>\n",
       "      <th>9</th>\n",
       "      <td>2019-08-01</td>\n",
       "      <td>24771.0</td>\n",
       "    </tr>\n",
       "    <tr>\n",
       "      <th>10</th>\n",
       "      <td>2019-09-01</td>\n",
       "      <td>23450.0</td>\n",
       "    </tr>\n",
       "    <tr>\n",
       "      <th>11</th>\n",
       "      <td>2019-10-01</td>\n",
       "      <td>29691.0</td>\n",
       "    </tr>\n",
       "    <tr>\n",
       "      <th>12</th>\n",
       "      <td>2019-11-01</td>\n",
       "      <td>24241.0</td>\n",
       "    </tr>\n",
       "    <tr>\n",
       "      <th>13</th>\n",
       "      <td>2019-12-01</td>\n",
       "      <td>26979.0</td>\n",
       "    </tr>\n",
       "    <tr>\n",
       "      <th>14</th>\n",
       "      <td>2020-01-01</td>\n",
       "      <td>24827.0</td>\n",
       "    </tr>\n",
       "    <tr>\n",
       "      <th>15</th>\n",
       "      <td>2020-02-01</td>\n",
       "      <td>23521.0</td>\n",
       "    </tr>\n",
       "  </tbody>\n",
       "</table>\n",
       "</div>"
      ],
      "text/plain": [
       "   Month_Start  UnitQty\n",
       "0   2018-11-01  37846.0\n",
       "1   2018-12-01  29781.0\n",
       "2   2019-01-01  30261.0\n",
       "3   2019-02-01  29913.0\n",
       "4   2019-03-01  25340.0\n",
       "5   2019-04-01  22598.0\n",
       "6   2019-05-01  43593.0\n",
       "7   2019-06-01  28607.0\n",
       "8   2019-07-01  24155.0\n",
       "9   2019-08-01  24771.0\n",
       "10  2019-09-01  23450.0\n",
       "11  2019-10-01  29691.0\n",
       "12  2019-11-01  24241.0\n",
       "13  2019-12-01  26979.0\n",
       "14  2020-01-01  24827.0\n",
       "15  2020-02-01  23521.0"
      ]
     },
     "execution_count": 26,
     "metadata": {},
     "output_type": "execute_result"
    }
   ],
   "source": [
    "Pro1_inv_grp = Pro1_inv_grp.sort_index()\n",
    "Pro1_inv_grp.head(50)"
   ]
  },
  {
   "cell_type": "code",
   "execution_count": null,
   "id": "hungarian-fiction",
   "metadata": {},
   "outputs": [],
   "source": []
  },
  {
   "cell_type": "code",
   "execution_count": 27,
   "id": "composite-laugh",
   "metadata": {},
   "outputs": [],
   "source": [
    "#Pro1_inv_Nor_Sm = Pro1_inv_Nor_Sm.reset_index()\n",
    "train = Pro1_inv_grp.loc[Pro1_inv_grp['Month_Start'] <= \"2019-11-30\"]\n",
    "train = train.set_index('Month_Start')\n",
    "test = Pro1_inv_grp.loc[Pro1_inv_grp['Month_Start'] > \"2019-11-30\"]\n",
    "test = test.set_index('Month_Start')"
   ]
  },
  {
   "cell_type": "code",
   "execution_count": 28,
   "id": "hispanic-cabinet",
   "metadata": {},
   "outputs": [
    {
     "name": "stdout",
     "output_type": "stream",
     "text": [
      "Performing stepwise search to minimize aic\n",
      " ARIMA(2,2,2)(0,0,0)[0]             : AIC=inf, Time=0.24 sec\n",
      " ARIMA(0,2,0)(0,0,0)[0]             : AIC=243.974, Time=0.01 sec\n",
      " ARIMA(1,2,0)(0,0,0)[0]             : AIC=242.261, Time=0.01 sec\n",
      " ARIMA(0,2,1)(0,0,0)[0]             : AIC=238.997, Time=0.02 sec\n",
      " ARIMA(1,2,1)(0,0,0)[0]             : AIC=240.914, Time=0.05 sec\n",
      " ARIMA(0,2,2)(0,0,0)[0]             : AIC=inf, Time=0.08 sec\n",
      " ARIMA(1,2,2)(0,0,0)[0]             : AIC=inf, Time=0.08 sec\n",
      " ARIMA(0,2,1)(0,0,0)[0] intercept   : AIC=243.204, Time=0.02 sec\n",
      "\n",
      "Best model:  ARIMA(0,2,1)(0,0,0)[0]          \n",
      "Total fit time: 0.519 seconds\n"
     ]
    },
    {
     "data": {
      "text/html": [
       "<table class=\"simpletable\">\n",
       "<caption>SARIMAX Results</caption>\n",
       "<tr>\n",
       "  <th>Dep. Variable:</th>           <td>y</td>        <th>  No. Observations:  </th>    <td>13</td>   \n",
       "</tr>\n",
       "<tr>\n",
       "  <th>Model:</th>           <td>SARIMAX(0, 2, 1)</td> <th>  Log Likelihood     </th> <td>-117.498</td>\n",
       "</tr>\n",
       "<tr>\n",
       "  <th>Date:</th>            <td>Fri, 08 Apr 2022</td> <th>  AIC                </th>  <td>238.997</td>\n",
       "</tr>\n",
       "<tr>\n",
       "  <th>Time:</th>                <td>19:50:44</td>     <th>  BIC                </th>  <td>239.792</td>\n",
       "</tr>\n",
       "<tr>\n",
       "  <th>Sample:</th>                  <td>0</td>        <th>  HQIC               </th>  <td>238.495</td>\n",
       "</tr>\n",
       "<tr>\n",
       "  <th></th>                       <td> - 13</td>      <th>                     </th>     <td> </td>   \n",
       "</tr>\n",
       "<tr>\n",
       "  <th>Covariance Type:</th>        <td>opg</td>       <th>                     </th>     <td> </td>   \n",
       "</tr>\n",
       "</table>\n",
       "<table class=\"simpletable\">\n",
       "<tr>\n",
       "     <td></td>       <th>coef</th>     <th>std err</th>      <th>z</th>      <th>P>|z|</th>  <th>[0.025</th>    <th>0.975]</th>  \n",
       "</tr>\n",
       "<tr>\n",
       "  <th>ma.L1</th>  <td>   -0.8196</td> <td>    0.372</td> <td>   -2.201</td> <td> 0.028</td> <td>   -1.549</td> <td>   -0.090</td>\n",
       "</tr>\n",
       "<tr>\n",
       "  <th>sigma2</th> <td> 1.358e+08</td> <td>  1.3e-09</td> <td> 1.05e+17</td> <td> 0.000</td> <td> 1.36e+08</td> <td> 1.36e+08</td>\n",
       "</tr>\n",
       "</table>\n",
       "<table class=\"simpletable\">\n",
       "<tr>\n",
       "  <th>Ljung-Box (L1) (Q):</th>     <td>1.79</td> <th>  Jarque-Bera (JB):  </th> <td>1.57</td>\n",
       "</tr>\n",
       "<tr>\n",
       "  <th>Prob(Q):</th>                <td>0.18</td> <th>  Prob(JB):          </th> <td>0.46</td>\n",
       "</tr>\n",
       "<tr>\n",
       "  <th>Heteroskedasticity (H):</th> <td>0.35</td> <th>  Skew:              </th> <td>0.80</td>\n",
       "</tr>\n",
       "<tr>\n",
       "  <th>Prob(H) (two-sided):</th>    <td>0.33</td> <th>  Kurtosis:          </th> <td>3.94</td>\n",
       "</tr>\n",
       "</table><br/><br/>Warnings:<br/>[1] Covariance matrix calculated using the outer product of gradients (complex-step).<br/>[2] Covariance matrix is singular or near-singular, with condition number 7.2e+32. Standard errors may be unstable."
      ],
      "text/plain": [
       "<class 'statsmodels.iolib.summary.Summary'>\n",
       "\"\"\"\n",
       "                               SARIMAX Results                                \n",
       "==============================================================================\n",
       "Dep. Variable:                      y   No. Observations:                   13\n",
       "Model:               SARIMAX(0, 2, 1)   Log Likelihood                -117.498\n",
       "Date:                Fri, 08 Apr 2022   AIC                            238.997\n",
       "Time:                        19:50:44   BIC                            239.792\n",
       "Sample:                             0   HQIC                           238.495\n",
       "                                 - 13                                         \n",
       "Covariance Type:                  opg                                         \n",
       "==============================================================================\n",
       "                 coef    std err          z      P>|z|      [0.025      0.975]\n",
       "------------------------------------------------------------------------------\n",
       "ma.L1         -0.8196      0.372     -2.201      0.028      -1.549      -0.090\n",
       "sigma2      1.358e+08    1.3e-09   1.05e+17      0.000    1.36e+08    1.36e+08\n",
       "===================================================================================\n",
       "Ljung-Box (L1) (Q):                   1.79   Jarque-Bera (JB):                 1.57\n",
       "Prob(Q):                              0.18   Prob(JB):                         0.46\n",
       "Heteroskedasticity (H):               0.35   Skew:                             0.80\n",
       "Prob(H) (two-sided):                  0.33   Kurtosis:                         3.94\n",
       "===================================================================================\n",
       "\n",
       "Warnings:\n",
       "[1] Covariance matrix calculated using the outer product of gradients (complex-step).\n",
       "[2] Covariance matrix is singular or near-singular, with condition number 7.2e+32. Standard errors may be unstable.\n",
       "\"\"\""
      ]
     },
     "execution_count": 28,
     "metadata": {},
     "output_type": "execute_result"
    }
   ],
   "source": [
    "from pmdarima import auto_arima\n",
    "model = auto_arima(train.UnitQty, test='adf', trace=True)\n",
    "results = model.fit(train.UnitQty)\n",
    "results.summary()"
   ]
  },
  {
   "cell_type": "code",
   "execution_count": null,
   "id": "patient-present",
   "metadata": {},
   "outputs": [],
   "source": []
  },
  {
   "cell_type": "code",
   "execution_count": 29,
   "id": "cosmetic-performance",
   "metadata": {},
   "outputs": [
    {
     "name": "stderr",
     "output_type": "stream",
     "text": [
      "c:\\users\\amila.h\\appdata\\local\\programs\\python\\python39\\lib\\site-packages\\statsmodels\\tsa\\base\\tsa_model.py:536: ValueWarning: No frequency information was provided, so inferred frequency MS will be used.\n",
      "  warnings.warn('No frequency information was'\n",
      "c:\\users\\amila.h\\appdata\\local\\programs\\python\\python39\\lib\\site-packages\\statsmodels\\tsa\\base\\tsa_model.py:536: ValueWarning: No frequency information was provided, so inferred frequency MS will be used.\n",
      "  warnings.warn('No frequency information was'\n",
      "c:\\users\\amila.h\\appdata\\local\\programs\\python\\python39\\lib\\site-packages\\statsmodels\\tsa\\statespace\\sarimax.py:978: UserWarning: Non-invertible starting MA parameters found. Using zeros as starting parameters.\n",
      "  warn('Non-invertible starting MA parameters found.'\n"
     ]
    },
    {
     "data": {
      "text/html": [
       "<table class=\"simpletable\">\n",
       "<caption>SARIMAX Results</caption>\n",
       "<tr>\n",
       "  <th>Dep. Variable:</th>        <td>UnitQty</td>     <th>  No. Observations:  </th>    <td>13</td>   \n",
       "</tr>\n",
       "<tr>\n",
       "  <th>Model:</th>           <td>SARIMAX(0, 2, 1)</td> <th>  Log Likelihood     </th> <td>-117.498</td>\n",
       "</tr>\n",
       "<tr>\n",
       "  <th>Date:</th>            <td>Fri, 08 Apr 2022</td> <th>  AIC                </th>  <td>238.997</td>\n",
       "</tr>\n",
       "<tr>\n",
       "  <th>Time:</th>                <td>19:50:58</td>     <th>  BIC                </th>  <td>239.792</td>\n",
       "</tr>\n",
       "<tr>\n",
       "  <th>Sample:</th>             <td>11-01-2018</td>    <th>  HQIC               </th>  <td>238.495</td>\n",
       "</tr>\n",
       "<tr>\n",
       "  <th></th>                   <td>- 11-01-2019</td>   <th>                     </th>     <td> </td>   \n",
       "</tr>\n",
       "<tr>\n",
       "  <th>Covariance Type:</th>        <td>opg</td>       <th>                     </th>     <td> </td>   \n",
       "</tr>\n",
       "</table>\n",
       "<table class=\"simpletable\">\n",
       "<tr>\n",
       "     <td></td>       <th>coef</th>     <th>std err</th>      <th>z</th>      <th>P>|z|</th>  <th>[0.025</th>    <th>0.975]</th>  \n",
       "</tr>\n",
       "<tr>\n",
       "  <th>ma.L1</th>  <td>   -0.8196</td> <td>    0.372</td> <td>   -2.201</td> <td> 0.028</td> <td>   -1.549</td> <td>   -0.090</td>\n",
       "</tr>\n",
       "<tr>\n",
       "  <th>sigma2</th> <td> 1.358e+08</td> <td>  1.3e-09</td> <td> 1.05e+17</td> <td> 0.000</td> <td> 1.36e+08</td> <td> 1.36e+08</td>\n",
       "</tr>\n",
       "</table>\n",
       "<table class=\"simpletable\">\n",
       "<tr>\n",
       "  <th>Ljung-Box (L1) (Q):</th>     <td>1.79</td> <th>  Jarque-Bera (JB):  </th> <td>1.57</td>\n",
       "</tr>\n",
       "<tr>\n",
       "  <th>Prob(Q):</th>                <td>0.18</td> <th>  Prob(JB):          </th> <td>0.46</td>\n",
       "</tr>\n",
       "<tr>\n",
       "  <th>Heteroskedasticity (H):</th> <td>0.35</td> <th>  Skew:              </th> <td>0.80</td>\n",
       "</tr>\n",
       "<tr>\n",
       "  <th>Prob(H) (two-sided):</th>    <td>0.33</td> <th>  Kurtosis:          </th> <td>3.94</td>\n",
       "</tr>\n",
       "</table><br/><br/>Warnings:<br/>[1] Covariance matrix calculated using the outer product of gradients (complex-step).<br/>[2] Covariance matrix is singular or near-singular, with condition number 7.2e+32. Standard errors may be unstable."
      ],
      "text/plain": [
       "<class 'statsmodels.iolib.summary.Summary'>\n",
       "\"\"\"\n",
       "                               SARIMAX Results                                \n",
       "==============================================================================\n",
       "Dep. Variable:                UnitQty   No. Observations:                   13\n",
       "Model:               SARIMAX(0, 2, 1)   Log Likelihood                -117.498\n",
       "Date:                Fri, 08 Apr 2022   AIC                            238.997\n",
       "Time:                        19:50:58   BIC                            239.792\n",
       "Sample:                    11-01-2018   HQIC                           238.495\n",
       "                         - 11-01-2019                                         \n",
       "Covariance Type:                  opg                                         \n",
       "==============================================================================\n",
       "                 coef    std err          z      P>|z|      [0.025      0.975]\n",
       "------------------------------------------------------------------------------\n",
       "ma.L1         -0.8196      0.372     -2.201      0.028      -1.549      -0.090\n",
       "sigma2      1.358e+08    1.3e-09   1.05e+17      0.000    1.36e+08    1.36e+08\n",
       "===================================================================================\n",
       "Ljung-Box (L1) (Q):                   1.79   Jarque-Bera (JB):                 1.57\n",
       "Prob(Q):                              0.18   Prob(JB):                         0.46\n",
       "Heteroskedasticity (H):               0.35   Skew:                             0.80\n",
       "Prob(H) (two-sided):                  0.33   Kurtosis:                         3.94\n",
       "===================================================================================\n",
       "\n",
       "Warnings:\n",
       "[1] Covariance matrix calculated using the outer product of gradients (complex-step).\n",
       "[2] Covariance matrix is singular or near-singular, with condition number 7.2e+32. Standard errors may be unstable.\n",
       "\"\"\""
      ]
     },
     "execution_count": 29,
     "metadata": {},
     "output_type": "execute_result"
    }
   ],
   "source": [
    "from statsmodels.tsa.statespace.sarimax import SARIMAX\n",
    "model = SARIMAX(train['UnitQty'],\n",
    "                order=(0,2,1),seasonal_order=(0,0,0,0))\n",
    "results = model.fit(disp=0)\n",
    "results.summary()"
   ]
  },
  {
   "cell_type": "code",
   "execution_count": null,
   "id": "greek-balloon",
   "metadata": {},
   "outputs": [],
   "source": []
  },
  {
   "cell_type": "code",
   "execution_count": 30,
   "id": "irish-treasurer",
   "metadata": {},
   "outputs": [
    {
     "data": {
      "image/png": "[encoded data removed]",
      "text/plain": [
       "<Figure size 1080x360 with 4 Axes>"
      ]
     },
     "metadata": {
      "needs_background": "light"
     },
     "output_type": "display_data"
    }
   ],
   "source": [
    "results.plot_diagnostics()\n",
    "plt.show()"
   ]
  },
  {
   "cell_type": "code",
   "execution_count": null,
   "id": "informational-mortgage",
   "metadata": {},
   "outputs": [],
   "source": []
  },
  {
   "cell_type": "code",
   "execution_count": 31,
   "id": "floral-seller",
   "metadata": {},
   "outputs": [
    {
     "name": "stdout",
     "output_type": "stream",
     "text": [
      "RMSE: 1651.550426\n"
     ]
    }
   ],
   "source": [
    "from sklearn.metrics import mean_squared_error\n",
    "from math import sqrt\n",
    "test_result = results.predict(start='2019-12-01', end='2020-02-01')\n",
    "mse = mean_squared_error(test, test_result)\n",
    "rmse = sqrt(mse)\n",
    "print('RMSE: %f' % rmse)"
   ]
  },
  {
   "cell_type": "markdown",
   "id": "potential-truck",
   "metadata": {},
   "source": [
    "#### Since this is quiet high value for RMSE the model is not best to predict."
   ]
  },
  {
   "cell_type": "code",
   "execution_count": 35,
   "id": "straight-rugby",
   "metadata": {},
   "outputs": [
    {
     "data": {
      "text/html": [
       "<div>\n",
       "<style scoped>\n",
       "    .dataframe tbody tr th:only-of-type {\n",
       "        vertical-align: middle;\n",
       "    }\n",
       "\n",
       "    .dataframe tbody tr th {\n",
       "        vertical-align: top;\n",
       "    }\n",
       "\n",
       "    .dataframe thead th {\n",
       "        text-align: right;\n",
       "    }\n",
       "</style>\n",
       "<table border=\"1\" class=\"dataframe\">\n",
       "  <thead>\n",
       "    <tr style=\"text-align: right;\">\n",
       "      <th></th>\n",
       "      <th>UnitQty</th>\n",
       "    </tr>\n",
       "    <tr>\n",
       "      <th>Month_Start</th>\n",
       "      <th></th>\n",
       "    </tr>\n",
       "  </thead>\n",
       "  <tbody>\n",
       "    <tr>\n",
       "      <th>2019-12-01</th>\n",
       "      <td>26979.0</td>\n",
       "    </tr>\n",
       "    <tr>\n",
       "      <th>2020-01-01</th>\n",
       "      <td>24827.0</td>\n",
       "    </tr>\n",
       "    <tr>\n",
       "      <th>2020-02-01</th>\n",
       "      <td>23521.0</td>\n",
       "    </tr>\n",
       "  </tbody>\n",
       "</table>\n",
       "</div>"
      ],
      "text/plain": [
       "             UnitQty\n",
       "Month_Start         \n",
       "2019-12-01   26979.0\n",
       "2020-01-01   24827.0\n",
       "2020-02-01   23521.0"
      ]
     },
     "execution_count": 35,
     "metadata": {},
     "output_type": "execute_result"
    }
   ],
   "source": [
    "test"
   ]
  },
  {
   "cell_type": "code",
   "execution_count": 33,
   "id": "discrete-groove",
   "metadata": {},
   "outputs": [
    {
     "data": {
      "text/plain": [
       "2019-12-01    24310.472379\n",
       "2020-01-01    24379.944759\n",
       "2020-02-01    24449.417138\n",
       "Freq: MS, Name: predicted_mean, dtype: float64"
      ]
     },
     "execution_count": 33,
     "metadata": {},
     "output_type": "execute_result"
    }
   ],
   "source": [
    "test_result"
   ]
  },
  {
   "cell_type": "code",
   "execution_count": null,
   "id": "median-matter",
   "metadata": {},
   "outputs": [],
   "source": []
  },
  {
   "cell_type": "code",
   "execution_count": 36,
   "id": "voluntary-cookbook",
   "metadata": {},
   "outputs": [
    {
     "data": {
      "text/plain": [
       "<matplotlib.legend.Legend at 0x2d77abf5940>"
      ]
     },
     "execution_count": 36,
     "metadata": {},
     "output_type": "execute_result"
    },
    {
     "data": {
      "image/png": "[encoded data removed]",
      "text/plain": [
       "<Figure size 1080x360 with 1 Axes>"
      ]
     },
     "metadata": {
      "needs_background": "light"
     },
     "output_type": "display_data"
    }
   ],
   "source": [
    "plt.plot(test)\n",
    "plt.plot(test_result)\n",
    "plt.legend(['test', 'predicted'])"
   ]
  },
  {
   "cell_type": "code",
   "execution_count": null,
   "id": "negative-screw",
   "metadata": {},
   "outputs": [],
   "source": []
  },
  {
   "cell_type": "code",
   "execution_count": null,
   "id": "indonesian-canada",
   "metadata": {},
   "outputs": [],
   "source": []
  }
 ],
 "metadata": {
  "kernelspec": {
   "display_name": "Python 3",
   "language": "python",
   "name": "python3"
  },
  "language_info": {
   "codemirror_mode": {
    "name": "ipython",
    "version": 3
   },
   "file_extension": ".py",
   "mimetype": "text/x-python",
   "name": "python",
   "nbconvert_exporter": "python",
   "pygments_lexer": "ipython3",
   "version": "3.9.1"
  }
 },
 "nbformat": 4,
 "nbformat_minor": 5
}
