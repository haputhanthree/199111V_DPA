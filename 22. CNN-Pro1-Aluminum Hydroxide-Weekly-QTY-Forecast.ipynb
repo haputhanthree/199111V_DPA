{
 "cells": [
  {
   "cell_type": "code",
   "execution_count": 1,
   "id": "derived-restoration",
   "metadata": {},
   "outputs": [],
   "source": [
    "import pandas as pd\n",
    "import matplotlib.pyplot as plt \n",
    "import numpy as np\n",
    "from scipy import stats\n",
    "import statsmodels.api as sm\n",
    "from statsmodels.tsa.seasonal import seasonal_decompose\n",
    "import statsmodels\n",
    "\n",
    "\n",
    "# univariate cnn example\n",
    "from numpy import array\n",
    "from keras.models import Sequential\n",
    "from keras.layers import Dense\n",
    "from keras.layers import Flatten\n",
    "from keras.layers.convolutional import Conv1D\n",
    "from keras.layers.convolutional import MaxPooling1D"
   ]
  },
  {
   "cell_type": "code",
   "execution_count": 2,
   "id": "african-february",
   "metadata": {},
   "outputs": [],
   "source": [
    "import urllib\n",
    "params ='DRIVER={SQL Server};SERVER=CL-AMILAH\\AMILA;DATABASE=GSH;UID=Amila;Trusted_Connection=yes;'       \n",
    "params = urllib.parse.quote_plus(params)\n",
    "\n",
    "from sqlalchemy import create_engine\n",
    "db = create_engine('mssql+pyodbc:///?odbc_connect=%s' % params)"
   ]
  },
  {
   "cell_type": "code",
   "execution_count": 3,
   "id": "growing-method",
   "metadata": {},
   "outputs": [],
   "source": [
    "sql = '''\n",
    "SELECT inv.[ID] ,inv.SiteUID, [Date] , [OutletUID] ,ot.Name AS outlet ,pr.Description AS province , di.Description AS district \n",
    ", ar.Description AS Area , inv.[AgentUID] ,Concat(emp.FirstName ,' ' , emp.MiddleInitials , ' ', emp.LastName ) AS AgentName , inv.[DistributorUID] , d.Name AS distributor, [ItemUID] ,it.Description AS item, [UnitQty] \n",
    ", [UnitPrice] , [RetailUnitPrice] , [FreeQty] , [FreeCompanyQty] , [GrossValue]\n",
    ",datename(YEAR, Date) AS Year\n",
    ",datename(month, Date) AS MonthName\n",
    ",MONTH(Date) AS Month\n",
    ",datename(DAY, Date) AS Day\n",
    ",DATEPART(DW,Date) AS WeekDay\n",
    ",datename(WEEKDAY, Date) AS DateName\n",
    ",DATEPART (hh,Date) as Hour\n",
    "\n",
    "  FROM [GSH].[dbo].[vw_Invoice] inv\n",
    "  LEFT JOIN [GSH].[dbo].[vw_InvoiceLine] invl\n",
    "  ON inv.siteUID = invl.TxnInvoice_SiteUID AND inv.uid = invl.TxnInvoiceUID\t\n",
    "  LEFT JOIN [GSH].[dbo].[Item] it\n",
    "  ON invl.ItemUID = it.UID\n",
    "  LEFT JOIN [GSH].[dbo].[Outlet] ot\n",
    "  ON inv.OutletUID = ot.UID\n",
    "  LEFT JOIN [GSH].[dbo].[Area] pr\n",
    "  ON ot.ProvinceUID = pr.UID\n",
    "  LEFT JOIN [GSH].[dbo].[Area] di\n",
    "  ON ot.DistrictUID = di.UID\n",
    "  LEFT JOIN [GSH].[dbo].[Area] ar\n",
    "  ON ot.AreaUID = ar.UID\n",
    "  LEFT JOIN [GSH].[dbo].[Distributor] d\n",
    "  ON inv.DistributorUID = d.UID\n",
    "  LEFT JOIN [GSH].[dbo].[avLogin] avlg\n",
    "  ON inv.AgentUID = avlg.BusinessUserUID\n",
    "  LEFT JOIN [GSH].[dbo].[Employee] emp\n",
    "  ON avlg.EmployeeUID = emp.UID\n",
    "  WHERE inv.mpt_TypeEnum IN ( 21 , 44, 14, 1) AND inv.ExpiryDate IS NULL AND inv.SubmittedDate IS NOT NULL\n",
    "  AND Date >= '2018-11-01' AND Date <= '2020-03-01' ;\n",
    "'''\n",
    "\n",
    "invoice_All = pd.read_sql_query(sql, db)"
   ]
  },
  {
   "cell_type": "code",
   "execution_count": 4,
   "id": "median-turning",
   "metadata": {},
   "outputs": [],
   "source": [
    "#disply all the columns\n",
    "pd.set_option('display.max_columns', None)"
   ]
  },
  {
   "cell_type": "code",
   "execution_count": 5,
   "id": "included-russell",
   "metadata": {},
   "outputs": [
    {
     "data": {
      "text/html": [
       "<div>\n",
       "<style scoped>\n",
       "    .dataframe tbody tr th:only-of-type {\n",
       "        vertical-align: middle;\n",
       "    }\n",
       "\n",
       "    .dataframe tbody tr th {\n",
       "        vertical-align: top;\n",
       "    }\n",
       "\n",
       "    .dataframe thead th {\n",
       "        text-align: right;\n",
       "    }\n",
       "</style>\n",
       "<table border=\"1\" class=\"dataframe\">\n",
       "  <thead>\n",
       "    <tr style=\"text-align: right;\">\n",
       "      <th></th>\n",
       "      <th>ID</th>\n",
       "      <th>SiteUID</th>\n",
       "      <th>Date</th>\n",
       "      <th>OutletUID</th>\n",
       "      <th>outlet</th>\n",
       "      <th>province</th>\n",
       "      <th>district</th>\n",
       "      <th>Area</th>\n",
       "      <th>AgentUID</th>\n",
       "      <th>AgentName</th>\n",
       "      <th>DistributorUID</th>\n",
       "      <th>distributor</th>\n",
       "      <th>ItemUID</th>\n",
       "      <th>item</th>\n",
       "      <th>UnitQty</th>\n",
       "      <th>UnitPrice</th>\n",
       "      <th>RetailUnitPrice</th>\n",
       "      <th>FreeQty</th>\n",
       "      <th>FreeCompanyQty</th>\n",
       "      <th>GrossValue</th>\n",
       "      <th>Year</th>\n",
       "      <th>MonthName</th>\n",
       "      <th>Month</th>\n",
       "      <th>Day</th>\n",
       "      <th>WeekDay</th>\n",
       "      <th>DateName</th>\n",
       "      <th>Hour</th>\n",
       "    </tr>\n",
       "  </thead>\n",
       "  <tbody>\n",
       "    <tr>\n",
       "      <th>0</th>\n",
       "      <td>CSO009300429</td>\n",
       "      <td>106</td>\n",
       "      <td>2018-11-10 10:38:11.057</td>\n",
       "      <td>975</td>\n",
       "      <td>Rewards  Pharmacy</td>\n",
       "      <td>Western Province</td>\n",
       "      <td>Colombo</td>\n",
       "      <td>Palawatta</td>\n",
       "      <td>93</td>\n",
       "      <td>Amith  Gayashan</td>\n",
       "      <td>9</td>\n",
       "      <td>Multy Drugs (Pvt) Ltd</td>\n",
       "      <td>4</td>\n",
       "      <td>Cosvate Cream 15gm</td>\n",
       "      <td>6.0</td>\n",
       "      <td>244.30</td>\n",
       "      <td>278.5</td>\n",
       "      <td>0.0</td>\n",
       "      <td>0.0</td>\n",
       "      <td>1465.8</td>\n",
       "      <td>2018</td>\n",
       "      <td>November</td>\n",
       "      <td>11</td>\n",
       "      <td>10</td>\n",
       "      <td>7</td>\n",
       "      <td>Saturday</td>\n",
       "      <td>10</td>\n",
       "    </tr>\n",
       "    <tr>\n",
       "      <th>1</th>\n",
       "      <td>CSO009300429</td>\n",
       "      <td>106</td>\n",
       "      <td>2018-11-10 10:38:11.057</td>\n",
       "      <td>975</td>\n",
       "      <td>Rewards  Pharmacy</td>\n",
       "      <td>Western Province</td>\n",
       "      <td>Colombo</td>\n",
       "      <td>Palawatta</td>\n",
       "      <td>93</td>\n",
       "      <td>Amith  Gayashan</td>\n",
       "      <td>9</td>\n",
       "      <td>Multy Drugs (Pvt) Ltd</td>\n",
       "      <td>9</td>\n",
       "      <td>Futop B Cream 10gm</td>\n",
       "      <td>2.0</td>\n",
       "      <td>386.00</td>\n",
       "      <td>440.0</td>\n",
       "      <td>0.0</td>\n",
       "      <td>0.0</td>\n",
       "      <td>772.0</td>\n",
       "      <td>2018</td>\n",
       "      <td>November</td>\n",
       "      <td>11</td>\n",
       "      <td>10</td>\n",
       "      <td>7</td>\n",
       "      <td>Saturday</td>\n",
       "      <td>10</td>\n",
       "    </tr>\n",
       "    <tr>\n",
       "      <th>2</th>\n",
       "      <td>CSO009400368</td>\n",
       "      <td>107</td>\n",
       "      <td>2018-11-10 10:44:58.090</td>\n",
       "      <td>983</td>\n",
       "      <td>Jeewaka  Pharmacy</td>\n",
       "      <td>Western Province</td>\n",
       "      <td>Colombo</td>\n",
       "      <td>Thalawathugoda</td>\n",
       "      <td>94</td>\n",
       "      <td>Sumedha  Kulathunga</td>\n",
       "      <td>9</td>\n",
       "      <td>Multy Drugs (Pvt) Ltd</td>\n",
       "      <td>129</td>\n",
       "      <td>Flexy Gel 20gm</td>\n",
       "      <td>20.0</td>\n",
       "      <td>243.85</td>\n",
       "      <td>278.0</td>\n",
       "      <td>0.0</td>\n",
       "      <td>0.0</td>\n",
       "      <td>4877.0</td>\n",
       "      <td>2018</td>\n",
       "      <td>November</td>\n",
       "      <td>11</td>\n",
       "      <td>10</td>\n",
       "      <td>7</td>\n",
       "      <td>Saturday</td>\n",
       "      <td>10</td>\n",
       "    </tr>\n",
       "    <tr>\n",
       "      <th>3</th>\n",
       "      <td>CSO009400368</td>\n",
       "      <td>107</td>\n",
       "      <td>2018-11-10 10:44:58.090</td>\n",
       "      <td>983</td>\n",
       "      <td>Jeewaka  Pharmacy</td>\n",
       "      <td>Western Province</td>\n",
       "      <td>Colombo</td>\n",
       "      <td>Thalawathugoda</td>\n",
       "      <td>94</td>\n",
       "      <td>Sumedha  Kulathunga</td>\n",
       "      <td>9</td>\n",
       "      <td>Multy Drugs (Pvt) Ltd</td>\n",
       "      <td>129</td>\n",
       "      <td>Flexy Gel 20gm</td>\n",
       "      <td>0.0</td>\n",
       "      <td>243.85</td>\n",
       "      <td>278.0</td>\n",
       "      <td>2.0</td>\n",
       "      <td>2.0</td>\n",
       "      <td>0.0</td>\n",
       "      <td>2018</td>\n",
       "      <td>November</td>\n",
       "      <td>11</td>\n",
       "      <td>10</td>\n",
       "      <td>7</td>\n",
       "      <td>Saturday</td>\n",
       "      <td>10</td>\n",
       "    </tr>\n",
       "    <tr>\n",
       "      <th>4</th>\n",
       "      <td>IN0071000004</td>\n",
       "      <td>0</td>\n",
       "      <td>2018-11-10 13:42:43.557</td>\n",
       "      <td>1790</td>\n",
       "      <td>Sethsiri Pharmacy</td>\n",
       "      <td>Western Province</td>\n",
       "      <td>Colombo</td>\n",
       "      <td>Hanwella</td>\n",
       "      <td>157</td>\n",
       "      <td>Samila   Vidanage</td>\n",
       "      <td>23</td>\n",
       "      <td>New Kotiyakubura Pharmacy</td>\n",
       "      <td>9</td>\n",
       "      <td>Futop B Cream 10gm</td>\n",
       "      <td>10.0</td>\n",
       "      <td>386.00</td>\n",
       "      <td>440.0</td>\n",
       "      <td>0.0</td>\n",
       "      <td>0.0</td>\n",
       "      <td>3860.0</td>\n",
       "      <td>2018</td>\n",
       "      <td>November</td>\n",
       "      <td>11</td>\n",
       "      <td>10</td>\n",
       "      <td>7</td>\n",
       "      <td>Saturday</td>\n",
       "      <td>13</td>\n",
       "    </tr>\n",
       "  </tbody>\n",
       "</table>\n",
       "</div>"
      ],
      "text/plain": [
       "             ID  SiteUID                    Date  OutletUID  \\\n",
       "0  CSO009300429      106 2018-11-10 10:38:11.057        975   \n",
       "1  CSO009300429      106 2018-11-10 10:38:11.057        975   \n",
       "2  CSO009400368      107 2018-11-10 10:44:58.090        983   \n",
       "3  CSO009400368      107 2018-11-10 10:44:58.090        983   \n",
       "4  IN0071000004        0 2018-11-10 13:42:43.557       1790   \n",
       "\n",
       "              outlet          province district            Area  AgentUID  \\\n",
       "0  Rewards  Pharmacy  Western Province  Colombo       Palawatta        93   \n",
       "1  Rewards  Pharmacy  Western Province  Colombo       Palawatta        93   \n",
       "2  Jeewaka  Pharmacy  Western Province  Colombo  Thalawathugoda        94   \n",
       "3  Jeewaka  Pharmacy  Western Province  Colombo  Thalawathugoda        94   \n",
       "4  Sethsiri Pharmacy  Western Province  Colombo        Hanwella       157   \n",
       "\n",
       "             AgentName  DistributorUID                distributor  ItemUID  \\\n",
       "0      Amith  Gayashan               9      Multy Drugs (Pvt) Ltd        4   \n",
       "1      Amith  Gayashan               9      Multy Drugs (Pvt) Ltd        9   \n",
       "2  Sumedha  Kulathunga               9      Multy Drugs (Pvt) Ltd      129   \n",
       "3  Sumedha  Kulathunga               9      Multy Drugs (Pvt) Ltd      129   \n",
       "4    Samila   Vidanage              23  New Kotiyakubura Pharmacy        9   \n",
       "\n",
       "                 item  UnitQty  UnitPrice  RetailUnitPrice  FreeQty  \\\n",
       "0  Cosvate Cream 15gm      6.0     244.30            278.5      0.0   \n",
       "1  Futop B Cream 10gm      2.0     386.00            440.0      0.0   \n",
       "2      Flexy Gel 20gm     20.0     243.85            278.0      0.0   \n",
       "3      Flexy Gel 20gm      0.0     243.85            278.0      2.0   \n",
       "4  Futop B Cream 10gm     10.0     386.00            440.0      0.0   \n",
       "\n",
       "   FreeCompanyQty  GrossValue  Year MonthName  Month Day  WeekDay  DateName  \\\n",
       "0             0.0      1465.8  2018  November     11  10        7  Saturday   \n",
       "1             0.0       772.0  2018  November     11  10        7  Saturday   \n",
       "2             0.0      4877.0  2018  November     11  10        7  Saturday   \n",
       "3             2.0         0.0  2018  November     11  10        7  Saturday   \n",
       "4             0.0      3860.0  2018  November     11  10        7  Saturday   \n",
       "\n",
       "   Hour  \n",
       "0    10  \n",
       "1    10  \n",
       "2    10  \n",
       "3    10  \n",
       "4    13  "
      ]
     },
     "execution_count": 5,
     "metadata": {},
     "output_type": "execute_result"
    }
   ],
   "source": [
    "invoice_All.head()"
   ]
  },
  {
   "cell_type": "markdown",
   "id": "imported-blink",
   "metadata": {},
   "source": [
    "### Select the most selling product to identify the time series prediction"
   ]
  },
  {
   "cell_type": "code",
   "execution_count": 6,
   "id": "creative-massage",
   "metadata": {},
   "outputs": [],
   "source": [
    "# select product sales records \n",
    "#Belcid Suspension 240ml top 1 product - based on unit qty\n",
    "Sec_invoice_All = invoice_All.loc[invoice_All['ItemUID'] == 25]"
   ]
  },
  {
   "cell_type": "code",
   "execution_count": 7,
   "id": "ongoing-vietnamese",
   "metadata": {},
   "outputs": [
    {
     "data": {
      "text/html": [
       "<div>\n",
       "<style scoped>\n",
       "    .dataframe tbody tr th:only-of-type {\n",
       "        vertical-align: middle;\n",
       "    }\n",
       "\n",
       "    .dataframe tbody tr th {\n",
       "        vertical-align: top;\n",
       "    }\n",
       "\n",
       "    .dataframe thead th {\n",
       "        text-align: right;\n",
       "    }\n",
       "</style>\n",
       "<table border=\"1\" class=\"dataframe\">\n",
       "  <thead>\n",
       "    <tr style=\"text-align: right;\">\n",
       "      <th></th>\n",
       "      <th>ID</th>\n",
       "      <th>SiteUID</th>\n",
       "      <th>Date</th>\n",
       "      <th>OutletUID</th>\n",
       "      <th>outlet</th>\n",
       "      <th>province</th>\n",
       "      <th>district</th>\n",
       "      <th>Area</th>\n",
       "      <th>AgentUID</th>\n",
       "      <th>AgentName</th>\n",
       "      <th>DistributorUID</th>\n",
       "      <th>distributor</th>\n",
       "      <th>ItemUID</th>\n",
       "      <th>item</th>\n",
       "      <th>UnitQty</th>\n",
       "      <th>UnitPrice</th>\n",
       "      <th>RetailUnitPrice</th>\n",
       "      <th>FreeQty</th>\n",
       "      <th>FreeCompanyQty</th>\n",
       "      <th>GrossValue</th>\n",
       "      <th>Year</th>\n",
       "      <th>MonthName</th>\n",
       "      <th>Month</th>\n",
       "      <th>Day</th>\n",
       "      <th>WeekDay</th>\n",
       "      <th>DateName</th>\n",
       "      <th>Hour</th>\n",
       "    </tr>\n",
       "  </thead>\n",
       "  <tbody>\n",
       "    <tr>\n",
       "      <th>651</th>\n",
       "      <td>CSO007700440</td>\n",
       "      <td>71</td>\n",
       "      <td>2018-11-11 14:20:03.197</td>\n",
       "      <td>3548</td>\n",
       "      <td>New Eleans Marketing</td>\n",
       "      <td>Eastern Province</td>\n",
       "      <td>Ampara</td>\n",
       "      <td>Akkaraipattu</td>\n",
       "      <td>77</td>\n",
       "      <td>Sandaruwan  Nishan</td>\n",
       "      <td>1</td>\n",
       "      <td>Apex Med Pharmaceuticals</td>\n",
       "      <td>25</td>\n",
       "      <td>Belcid Suspension 240ml</td>\n",
       "      <td>1000.0</td>\n",
       "      <td>206.1</td>\n",
       "      <td>235.0</td>\n",
       "      <td>0.0</td>\n",
       "      <td>0.0</td>\n",
       "      <td>206100.0</td>\n",
       "      <td>2018</td>\n",
       "      <td>November</td>\n",
       "      <td>11</td>\n",
       "      <td>11</td>\n",
       "      <td>1</td>\n",
       "      <td>Sunday</td>\n",
       "      <td>14</td>\n",
       "    </tr>\n",
       "    <tr>\n",
       "      <th>739</th>\n",
       "      <td>CSO007700440</td>\n",
       "      <td>71</td>\n",
       "      <td>2018-11-11 14:20:03.197</td>\n",
       "      <td>3548</td>\n",
       "      <td>New Eleans Marketing</td>\n",
       "      <td>Eastern Province</td>\n",
       "      <td>Ampara</td>\n",
       "      <td>Akkaraipattu</td>\n",
       "      <td>77</td>\n",
       "      <td>Sandaruwan  Nishan</td>\n",
       "      <td>1</td>\n",
       "      <td>Apex Med Pharmaceuticals</td>\n",
       "      <td>25</td>\n",
       "      <td>Belcid Suspension 240ml</td>\n",
       "      <td>0.0</td>\n",
       "      <td>238.7</td>\n",
       "      <td>272.0</td>\n",
       "      <td>300.0</td>\n",
       "      <td>300.0</td>\n",
       "      <td>0.0</td>\n",
       "      <td>2018</td>\n",
       "      <td>November</td>\n",
       "      <td>11</td>\n",
       "      <td>11</td>\n",
       "      <td>1</td>\n",
       "      <td>Sunday</td>\n",
       "      <td>14</td>\n",
       "    </tr>\n",
       "    <tr>\n",
       "      <th>824</th>\n",
       "      <td>CSO009400320</td>\n",
       "      <td>107</td>\n",
       "      <td>2018-11-07 14:43:16.980</td>\n",
       "      <td>679</td>\n",
       "      <td>Sam   Pharmacy</td>\n",
       "      <td>Western Province</td>\n",
       "      <td>Colombo</td>\n",
       "      <td>Nugegoda</td>\n",
       "      <td>94</td>\n",
       "      <td>Sumedha  Kulathunga</td>\n",
       "      <td>9</td>\n",
       "      <td>Multy Drugs (Pvt) Ltd</td>\n",
       "      <td>25</td>\n",
       "      <td>Belcid Suspension 240ml</td>\n",
       "      <td>20.0</td>\n",
       "      <td>238.7</td>\n",
       "      <td>272.0</td>\n",
       "      <td>0.0</td>\n",
       "      <td>0.0</td>\n",
       "      <td>4774.0</td>\n",
       "      <td>2018</td>\n",
       "      <td>November</td>\n",
       "      <td>11</td>\n",
       "      <td>7</td>\n",
       "      <td>4</td>\n",
       "      <td>Wednesday</td>\n",
       "      <td>14</td>\n",
       "    </tr>\n",
       "    <tr>\n",
       "      <th>825</th>\n",
       "      <td>CSO009400320</td>\n",
       "      <td>107</td>\n",
       "      <td>2018-11-07 14:43:16.980</td>\n",
       "      <td>679</td>\n",
       "      <td>Sam   Pharmacy</td>\n",
       "      <td>Western Province</td>\n",
       "      <td>Colombo</td>\n",
       "      <td>Nugegoda</td>\n",
       "      <td>94</td>\n",
       "      <td>Sumedha  Kulathunga</td>\n",
       "      <td>9</td>\n",
       "      <td>Multy Drugs (Pvt) Ltd</td>\n",
       "      <td>25</td>\n",
       "      <td>Belcid Suspension 240ml</td>\n",
       "      <td>0.0</td>\n",
       "      <td>238.7</td>\n",
       "      <td>272.0</td>\n",
       "      <td>4.0</td>\n",
       "      <td>6.0</td>\n",
       "      <td>0.0</td>\n",
       "      <td>2018</td>\n",
       "      <td>November</td>\n",
       "      <td>11</td>\n",
       "      <td>7</td>\n",
       "      <td>4</td>\n",
       "      <td>Wednesday</td>\n",
       "      <td>14</td>\n",
       "    </tr>\n",
       "    <tr>\n",
       "      <th>914</th>\n",
       "      <td>CSO009400371</td>\n",
       "      <td>107</td>\n",
       "      <td>2018-11-10 10:41:16.243</td>\n",
       "      <td>972</td>\n",
       "      <td>Pelawatta  Pharmacy</td>\n",
       "      <td>Western Province</td>\n",
       "      <td>Colombo</td>\n",
       "      <td>Palawatta</td>\n",
       "      <td>94</td>\n",
       "      <td>Sumedha  Kulathunga</td>\n",
       "      <td>9</td>\n",
       "      <td>Multy Drugs (Pvt) Ltd</td>\n",
       "      <td>25</td>\n",
       "      <td>Belcid Suspension 240ml</td>\n",
       "      <td>10.0</td>\n",
       "      <td>238.7</td>\n",
       "      <td>272.0</td>\n",
       "      <td>0.0</td>\n",
       "      <td>0.0</td>\n",
       "      <td>2387.0</td>\n",
       "      <td>2018</td>\n",
       "      <td>November</td>\n",
       "      <td>11</td>\n",
       "      <td>10</td>\n",
       "      <td>7</td>\n",
       "      <td>Saturday</td>\n",
       "      <td>10</td>\n",
       "    </tr>\n",
       "  </tbody>\n",
       "</table>\n",
       "</div>"
      ],
      "text/plain": [
       "               ID  SiteUID                    Date  OutletUID  \\\n",
       "651  CSO007700440       71 2018-11-11 14:20:03.197       3548   \n",
       "739  CSO007700440       71 2018-11-11 14:20:03.197       3548   \n",
       "824  CSO009400320      107 2018-11-07 14:43:16.980        679   \n",
       "825  CSO009400320      107 2018-11-07 14:43:16.980        679   \n",
       "914  CSO009400371      107 2018-11-10 10:41:16.243        972   \n",
       "\n",
       "                   outlet          province district          Area  AgentUID  \\\n",
       "651  New Eleans Marketing  Eastern Province   Ampara  Akkaraipattu        77   \n",
       "739  New Eleans Marketing  Eastern Province   Ampara  Akkaraipattu        77   \n",
       "824        Sam   Pharmacy  Western Province  Colombo      Nugegoda        94   \n",
       "825        Sam   Pharmacy  Western Province  Colombo      Nugegoda        94   \n",
       "914   Pelawatta  Pharmacy  Western Province  Colombo     Palawatta        94   \n",
       "\n",
       "               AgentName  DistributorUID               distributor  ItemUID  \\\n",
       "651   Sandaruwan  Nishan               1  Apex Med Pharmaceuticals       25   \n",
       "739   Sandaruwan  Nishan               1  Apex Med Pharmaceuticals       25   \n",
       "824  Sumedha  Kulathunga               9     Multy Drugs (Pvt) Ltd       25   \n",
       "825  Sumedha  Kulathunga               9     Multy Drugs (Pvt) Ltd       25   \n",
       "914  Sumedha  Kulathunga               9     Multy Drugs (Pvt) Ltd       25   \n",
       "\n",
       "                        item  UnitQty  UnitPrice  RetailUnitPrice  FreeQty  \\\n",
       "651  Belcid Suspension 240ml   1000.0      206.1            235.0      0.0   \n",
       "739  Belcid Suspension 240ml      0.0      238.7            272.0    300.0   \n",
       "824  Belcid Suspension 240ml     20.0      238.7            272.0      0.0   \n",
       "825  Belcid Suspension 240ml      0.0      238.7            272.0      4.0   \n",
       "914  Belcid Suspension 240ml     10.0      238.7            272.0      0.0   \n",
       "\n",
       "     FreeCompanyQty  GrossValue  Year MonthName  Month Day  WeekDay  \\\n",
       "651             0.0    206100.0  2018  November     11  11        1   \n",
       "739           300.0         0.0  2018  November     11  11        1   \n",
       "824             0.0      4774.0  2018  November     11   7        4   \n",
       "825             6.0         0.0  2018  November     11   7        4   \n",
       "914             0.0      2387.0  2018  November     11  10        7   \n",
       "\n",
       "      DateName  Hour  \n",
       "651     Sunday    14  \n",
       "739     Sunday    14  \n",
       "824  Wednesday    14  \n",
       "825  Wednesday    14  \n",
       "914   Saturday    10  "
      ]
     },
     "execution_count": 7,
     "metadata": {},
     "output_type": "execute_result"
    }
   ],
   "source": [
    "Sec_invoice_All.head()"
   ]
  },
  {
   "cell_type": "code",
   "execution_count": null,
   "id": "cognitive-saudi",
   "metadata": {},
   "outputs": [],
   "source": []
  },
  {
   "cell_type": "code",
   "execution_count": 8,
   "id": "approximate-certification",
   "metadata": {},
   "outputs": [],
   "source": [
    "#Aggregate data into weekly sum\n",
    "sample=Sec_invoice_All[['Date','UnitQty']]\n",
    "weekly=sample.resample('W', on='Date').sum()"
   ]
  },
  {
   "cell_type": "code",
   "execution_count": 9,
   "id": "legendary-needle",
   "metadata": {},
   "outputs": [
    {
     "data": {
      "text/html": [
       "<div>\n",
       "<style scoped>\n",
       "    .dataframe tbody tr th:only-of-type {\n",
       "        vertical-align: middle;\n",
       "    }\n",
       "\n",
       "    .dataframe tbody tr th {\n",
       "        vertical-align: top;\n",
       "    }\n",
       "\n",
       "    .dataframe thead th {\n",
       "        text-align: right;\n",
       "    }\n",
       "</style>\n",
       "<table border=\"1\" class=\"dataframe\">\n",
       "  <thead>\n",
       "    <tr style=\"text-align: right;\">\n",
       "      <th></th>\n",
       "      <th>UnitQty</th>\n",
       "    </tr>\n",
       "    <tr>\n",
       "      <th>Date</th>\n",
       "      <th></th>\n",
       "    </tr>\n",
       "  </thead>\n",
       "  <tbody>\n",
       "    <tr>\n",
       "      <th>2018-11-04</th>\n",
       "      <td>307.0</td>\n",
       "    </tr>\n",
       "    <tr>\n",
       "      <th>2018-11-11</th>\n",
       "      <td>7505.0</td>\n",
       "    </tr>\n",
       "    <tr>\n",
       "      <th>2018-11-18</th>\n",
       "      <td>5488.0</td>\n",
       "    </tr>\n",
       "    <tr>\n",
       "      <th>2018-11-25</th>\n",
       "      <td>5944.0</td>\n",
       "    </tr>\n",
       "    <tr>\n",
       "      <th>2018-12-02</th>\n",
       "      <td>18655.0</td>\n",
       "    </tr>\n",
       "    <tr>\n",
       "      <th>...</th>\n",
       "      <td>...</td>\n",
       "    </tr>\n",
       "    <tr>\n",
       "      <th>2020-02-02</th>\n",
       "      <td>11494.0</td>\n",
       "    </tr>\n",
       "    <tr>\n",
       "      <th>2020-02-09</th>\n",
       "      <td>1554.0</td>\n",
       "    </tr>\n",
       "    <tr>\n",
       "      <th>2020-02-16</th>\n",
       "      <td>6313.0</td>\n",
       "    </tr>\n",
       "    <tr>\n",
       "      <th>2020-02-23</th>\n",
       "      <td>3643.0</td>\n",
       "    </tr>\n",
       "    <tr>\n",
       "      <th>2020-03-01</th>\n",
       "      <td>12011.0</td>\n",
       "    </tr>\n",
       "  </tbody>\n",
       "</table>\n",
       "<p>70 rows × 1 columns</p>\n",
       "</div>"
      ],
      "text/plain": [
       "            UnitQty\n",
       "Date               \n",
       "2018-11-04    307.0\n",
       "2018-11-11   7505.0\n",
       "2018-11-18   5488.0\n",
       "2018-11-25   5944.0\n",
       "2018-12-02  18655.0\n",
       "...             ...\n",
       "2020-02-02  11494.0\n",
       "2020-02-09   1554.0\n",
       "2020-02-16   6313.0\n",
       "2020-02-23   3643.0\n",
       "2020-03-01  12011.0\n",
       "\n",
       "[70 rows x 1 columns]"
      ]
     },
     "execution_count": 9,
     "metadata": {},
     "output_type": "execute_result"
    }
   ],
   "source": [
    "weekly"
   ]
  },
  {
   "cell_type": "code",
   "execution_count": 10,
   "id": "intelligent-compression",
   "metadata": {},
   "outputs": [],
   "source": [
    "weekly = weekly.reset_index()"
   ]
  },
  {
   "cell_type": "code",
   "execution_count": 11,
   "id": "universal-convergence",
   "metadata": {},
   "outputs": [
    {
     "data": {
      "image/png": "[encoded data removed]",
      "text/plain": [
       "<Figure size 432x288 with 1 Axes>"
      ]
     },
     "metadata": {
      "needs_background": "light"
     },
     "output_type": "display_data"
    }
   ],
   "source": [
    "plt.scatter(weekly.Date , weekly.UnitQty , alpha=0.3,cmap='viridis')\n",
    "plt.xlabel(\"Week\")\n",
    "plt.xticks (rotation='vertical', size=8)\n",
    "plt.ylabel(\"QTY sales\")\n",
    "plt.title(\"QTY sales \")\n",
    "plt.rcParams['figure.figsize'] = [15, 5]\n",
    "plt.show()"
   ]
  },
  {
   "cell_type": "code",
   "execution_count": 12,
   "id": "wrong-bracelet",
   "metadata": {},
   "outputs": [
    {
     "data": {
      "image/png": "[encoded data removed]",
      "text/plain": [
       "<Figure size 1080x360 with 1 Axes>"
      ]
     },
     "metadata": {
      "needs_background": "light"
     },
     "output_type": "display_data"
    }
   ],
   "source": [
    "weekly.plot(kind = 'line', x = 'Date', y = 'UnitQty')\n",
    "plt.show()"
   ]
  },
  {
   "cell_type": "code",
   "execution_count": null,
   "id": "polish-melbourne",
   "metadata": {},
   "outputs": [],
   "source": []
  },
  {
   "cell_type": "code",
   "execution_count": 13,
   "id": "innovative-retailer",
   "metadata": {},
   "outputs": [],
   "source": [
    "# remove z score > 3 \n",
    "Sec_invoice_All = weekly[(np.abs(stats.zscore(weekly[\"UnitQty\"])) < 3)]"
   ]
  },
  {
   "cell_type": "code",
   "execution_count": 14,
   "id": "brave-cologne",
   "metadata": {},
   "outputs": [
    {
     "data": {
      "image/png": "[encoded data removed]",
      "text/plain": [
       "<Figure size 1080x360 with 1 Axes>"
      ]
     },
     "metadata": {
      "needs_background": "light"
     },
     "output_type": "display_data"
    }
   ],
   "source": [
    "plt.scatter(Sec_invoice_All.Date , Sec_invoice_All.UnitQty , alpha=0.3,cmap='viridis')\n",
    "plt.xlabel(\"Week\")\n",
    "plt.xticks (rotation='vertical', size=8)\n",
    "plt.ylabel(\"QTY sales\")\n",
    "plt.title(\"QTY sales \")\n",
    "plt.rcParams['figure.figsize'] = [15, 5]\n",
    "plt.show()"
   ]
  },
  {
   "cell_type": "code",
   "execution_count": 15,
   "id": "willing-michigan",
   "metadata": {},
   "outputs": [
    {
     "data": {
      "image/png": "[encoded data removed]",
      "text/plain": [
       "<Figure size 1080x360 with 1 Axes>"
      ]
     },
     "metadata": {
      "needs_background": "light"
     },
     "output_type": "display_data"
    }
   ],
   "source": [
    "Sec_invoice_All.plot(kind = 'line', x = 'Date', y = 'UnitQty')\n",
    "plt.show()"
   ]
  },
  {
   "cell_type": "code",
   "execution_count": null,
   "id": "approved-westminster",
   "metadata": {},
   "outputs": [],
   "source": []
  },
  {
   "cell_type": "code",
   "execution_count": 16,
   "id": "silent-desperate",
   "metadata": {},
   "outputs": [
    {
     "data": {
      "image/png": "[encoded data removed]",
      "text/plain": [
       "<Figure size 1080x360 with 4 Axes>"
      ]
     },
     "metadata": {
      "needs_background": "light"
     },
     "output_type": "display_data"
    }
   ],
   "source": [
    "decomposition = seasonal_decompose(Sec_invoice_All['UnitQty'], period =4)\n",
    "decomposition.plot()\n",
    "plt.show()"
   ]
  },
  {
   "cell_type": "code",
   "execution_count": null,
   "id": "organizational-politics",
   "metadata": {},
   "outputs": [],
   "source": []
  },
  {
   "cell_type": "code",
   "execution_count": 17,
   "id": "affected-beach",
   "metadata": {},
   "outputs": [
    {
     "name": "stdout",
     "output_type": "stream",
     "text": [
      "Test Statistic                 -3.620242\n",
      "p-value                         0.005386\n",
      "#Lags Used                      7.000000\n",
      "Number of Observations Used    60.000000\n",
      "Critical Value (1%)            -3.544369\n",
      "Critical Value (5%)            -2.911073\n",
      "Critical Value (10%)           -2.593190\n",
      "dtype: float64\n"
     ]
    }
   ],
   "source": [
    "from statsmodels.tsa.stattools import adfuller\n",
    "dftest = adfuller(Sec_invoice_All['UnitQty'])\n",
    "dfoutput = pd.Series(dftest[0:4], index=['Test Statistic','p-value','#Lags Used','Number of Observations Used'])\n",
    "for key, value in dftest[4].items():\n",
    "    dfoutput['Critical Value (%s)'%key] = value\n",
    "print(dfoutput)"
   ]
  },
  {
   "cell_type": "code",
   "execution_count": null,
   "id": "arabic-miami",
   "metadata": {},
   "outputs": [],
   "source": []
  },
  {
   "cell_type": "code",
   "execution_count": 18,
   "id": "happy-cancer",
   "metadata": {},
   "outputs": [],
   "source": [
    "#create Date Table\n",
    "def create_date_table2(start='2018-11-04', end='2020-03-01'):\n",
    "    df = pd.DataFrame({\"Date\": pd.date_range(start, end)})\n",
    "    return df"
   ]
  },
  {
   "cell_type": "code",
   "execution_count": 19,
   "id": "occupational-rendering",
   "metadata": {},
   "outputs": [],
   "source": [
    "date_table = create_date_table2()"
   ]
  },
  {
   "cell_type": "code",
   "execution_count": 20,
   "id": "executive-perth",
   "metadata": {},
   "outputs": [
    {
     "data": {
      "text/html": [
       "<div>\n",
       "<style scoped>\n",
       "    .dataframe tbody tr th:only-of-type {\n",
       "        vertical-align: middle;\n",
       "    }\n",
       "\n",
       "    .dataframe tbody tr th {\n",
       "        vertical-align: top;\n",
       "    }\n",
       "\n",
       "    .dataframe thead th {\n",
       "        text-align: right;\n",
       "    }\n",
       "</style>\n",
       "<table border=\"1\" class=\"dataframe\">\n",
       "  <thead>\n",
       "    <tr style=\"text-align: right;\">\n",
       "      <th></th>\n",
       "      <th>Date</th>\n",
       "    </tr>\n",
       "  </thead>\n",
       "  <tbody>\n",
       "    <tr>\n",
       "      <th>0</th>\n",
       "      <td>2018-11-04</td>\n",
       "    </tr>\n",
       "    <tr>\n",
       "      <th>1</th>\n",
       "      <td>2018-11-05</td>\n",
       "    </tr>\n",
       "    <tr>\n",
       "      <th>2</th>\n",
       "      <td>2018-11-06</td>\n",
       "    </tr>\n",
       "    <tr>\n",
       "      <th>3</th>\n",
       "      <td>2018-11-07</td>\n",
       "    </tr>\n",
       "    <tr>\n",
       "      <th>4</th>\n",
       "      <td>2018-11-08</td>\n",
       "    </tr>\n",
       "    <tr>\n",
       "      <th>5</th>\n",
       "      <td>2018-11-09</td>\n",
       "    </tr>\n",
       "    <tr>\n",
       "      <th>6</th>\n",
       "      <td>2018-11-10</td>\n",
       "    </tr>\n",
       "    <tr>\n",
       "      <th>7</th>\n",
       "      <td>2018-11-11</td>\n",
       "    </tr>\n",
       "    <tr>\n",
       "      <th>8</th>\n",
       "      <td>2018-11-12</td>\n",
       "    </tr>\n",
       "    <tr>\n",
       "      <th>9</th>\n",
       "      <td>2018-11-13</td>\n",
       "    </tr>\n",
       "    <tr>\n",
       "      <th>10</th>\n",
       "      <td>2018-11-14</td>\n",
       "    </tr>\n",
       "    <tr>\n",
       "      <th>11</th>\n",
       "      <td>2018-11-15</td>\n",
       "    </tr>\n",
       "  </tbody>\n",
       "</table>\n",
       "</div>"
      ],
      "text/plain": [
       "         Date\n",
       "0  2018-11-04\n",
       "1  2018-11-05\n",
       "2  2018-11-06\n",
       "3  2018-11-07\n",
       "4  2018-11-08\n",
       "5  2018-11-09\n",
       "6  2018-11-10\n",
       "7  2018-11-11\n",
       "8  2018-11-12\n",
       "9  2018-11-13\n",
       "10 2018-11-14\n",
       "11 2018-11-15"
      ]
     },
     "execution_count": 20,
     "metadata": {},
     "output_type": "execute_result"
    }
   ],
   "source": [
    "date_table.head(12)"
   ]
  },
  {
   "cell_type": "code",
   "execution_count": 21,
   "id": "descending-violin",
   "metadata": {},
   "outputs": [],
   "source": [
    "# keep every 7th row\n",
    "date_table = date_table.iloc[::7, :]"
   ]
  },
  {
   "cell_type": "code",
   "execution_count": 22,
   "id": "special-peeing",
   "metadata": {},
   "outputs": [
    {
     "data": {
      "text/html": [
       "<div>\n",
       "<style scoped>\n",
       "    .dataframe tbody tr th:only-of-type {\n",
       "        vertical-align: middle;\n",
       "    }\n",
       "\n",
       "    .dataframe tbody tr th {\n",
       "        vertical-align: top;\n",
       "    }\n",
       "\n",
       "    .dataframe thead th {\n",
       "        text-align: right;\n",
       "    }\n",
       "</style>\n",
       "<table border=\"1\" class=\"dataframe\">\n",
       "  <thead>\n",
       "    <tr style=\"text-align: right;\">\n",
       "      <th></th>\n",
       "      <th>Date</th>\n",
       "    </tr>\n",
       "  </thead>\n",
       "  <tbody>\n",
       "    <tr>\n",
       "      <th>0</th>\n",
       "      <td>2018-11-04</td>\n",
       "    </tr>\n",
       "    <tr>\n",
       "      <th>7</th>\n",
       "      <td>2018-11-11</td>\n",
       "    </tr>\n",
       "    <tr>\n",
       "      <th>14</th>\n",
       "      <td>2018-11-18</td>\n",
       "    </tr>\n",
       "    <tr>\n",
       "      <th>21</th>\n",
       "      <td>2018-11-25</td>\n",
       "    </tr>\n",
       "    <tr>\n",
       "      <th>28</th>\n",
       "      <td>2018-12-02</td>\n",
       "    </tr>\n",
       "    <tr>\n",
       "      <th>...</th>\n",
       "      <td>...</td>\n",
       "    </tr>\n",
       "    <tr>\n",
       "      <th>455</th>\n",
       "      <td>2020-02-02</td>\n",
       "    </tr>\n",
       "    <tr>\n",
       "      <th>462</th>\n",
       "      <td>2020-02-09</td>\n",
       "    </tr>\n",
       "    <tr>\n",
       "      <th>469</th>\n",
       "      <td>2020-02-16</td>\n",
       "    </tr>\n",
       "    <tr>\n",
       "      <th>476</th>\n",
       "      <td>2020-02-23</td>\n",
       "    </tr>\n",
       "    <tr>\n",
       "      <th>483</th>\n",
       "      <td>2020-03-01</td>\n",
       "    </tr>\n",
       "  </tbody>\n",
       "</table>\n",
       "<p>70 rows × 1 columns</p>\n",
       "</div>"
      ],
      "text/plain": [
       "          Date\n",
       "0   2018-11-04\n",
       "7   2018-11-11\n",
       "14  2018-11-18\n",
       "21  2018-11-25\n",
       "28  2018-12-02\n",
       "..         ...\n",
       "455 2020-02-02\n",
       "462 2020-02-09\n",
       "469 2020-02-16\n",
       "476 2020-02-23\n",
       "483 2020-03-01\n",
       "\n",
       "[70 rows x 1 columns]"
      ]
     },
     "execution_count": 22,
     "metadata": {},
     "output_type": "execute_result"
    }
   ],
   "source": [
    "date_table"
   ]
  },
  {
   "cell_type": "code",
   "execution_count": null,
   "id": "vocational-defeat",
   "metadata": {},
   "outputs": [],
   "source": []
  },
  {
   "cell_type": "code",
   "execution_count": 23,
   "id": "animal-motorcycle",
   "metadata": {},
   "outputs": [],
   "source": [
    "#left Join with Weekly date table\n",
    "Sec_inv_mis = date_table.merge(Sec_invoice_All, on='Date', how='left')"
   ]
  },
  {
   "cell_type": "code",
   "execution_count": 24,
   "id": "conventional-million",
   "metadata": {},
   "outputs": [
    {
     "data": {
      "text/html": [
       "<div>\n",
       "<style scoped>\n",
       "    .dataframe tbody tr th:only-of-type {\n",
       "        vertical-align: middle;\n",
       "    }\n",
       "\n",
       "    .dataframe tbody tr th {\n",
       "        vertical-align: top;\n",
       "    }\n",
       "\n",
       "    .dataframe thead th {\n",
       "        text-align: right;\n",
       "    }\n",
       "</style>\n",
       "<table border=\"1\" class=\"dataframe\">\n",
       "  <thead>\n",
       "    <tr style=\"text-align: right;\">\n",
       "      <th></th>\n",
       "      <th>Date</th>\n",
       "      <th>UnitQty</th>\n",
       "    </tr>\n",
       "  </thead>\n",
       "  <tbody>\n",
       "    <tr>\n",
       "      <th>0</th>\n",
       "      <td>2018-11-04</td>\n",
       "      <td>307.0</td>\n",
       "    </tr>\n",
       "    <tr>\n",
       "      <th>1</th>\n",
       "      <td>2018-11-11</td>\n",
       "      <td>7505.0</td>\n",
       "    </tr>\n",
       "    <tr>\n",
       "      <th>2</th>\n",
       "      <td>2018-11-18</td>\n",
       "      <td>5488.0</td>\n",
       "    </tr>\n",
       "    <tr>\n",
       "      <th>3</th>\n",
       "      <td>2018-11-25</td>\n",
       "      <td>5944.0</td>\n",
       "    </tr>\n",
       "    <tr>\n",
       "      <th>4</th>\n",
       "      <td>2018-12-02</td>\n",
       "      <td>NaN</td>\n",
       "    </tr>\n",
       "    <tr>\n",
       "      <th>5</th>\n",
       "      <td>2018-12-09</td>\n",
       "      <td>4210.0</td>\n",
       "    </tr>\n",
       "    <tr>\n",
       "      <th>6</th>\n",
       "      <td>2018-12-16</td>\n",
       "      <td>5559.0</td>\n",
       "    </tr>\n",
       "    <tr>\n",
       "      <th>7</th>\n",
       "      <td>2018-12-23</td>\n",
       "      <td>8620.0</td>\n",
       "    </tr>\n",
       "    <tr>\n",
       "      <th>8</th>\n",
       "      <td>2018-12-30</td>\n",
       "      <td>3620.0</td>\n",
       "    </tr>\n",
       "    <tr>\n",
       "      <th>9</th>\n",
       "      <td>2019-01-06</td>\n",
       "      <td>9335.0</td>\n",
       "    </tr>\n",
       "  </tbody>\n",
       "</table>\n",
       "</div>"
      ],
      "text/plain": [
       "        Date  UnitQty\n",
       "0 2018-11-04    307.0\n",
       "1 2018-11-11   7505.0\n",
       "2 2018-11-18   5488.0\n",
       "3 2018-11-25   5944.0\n",
       "4 2018-12-02      NaN\n",
       "5 2018-12-09   4210.0\n",
       "6 2018-12-16   5559.0\n",
       "7 2018-12-23   8620.0\n",
       "8 2018-12-30   3620.0\n",
       "9 2019-01-06   9335.0"
      ]
     },
     "execution_count": 24,
     "metadata": {},
     "output_type": "execute_result"
    }
   ],
   "source": [
    "Sec_inv_mis.head(10)"
   ]
  },
  {
   "cell_type": "code",
   "execution_count": null,
   "id": "included-recognition",
   "metadata": {},
   "outputs": [],
   "source": []
  },
  {
   "cell_type": "code",
   "execution_count": 25,
   "id": "quiet-stadium",
   "metadata": {},
   "outputs": [],
   "source": [
    "#fill missing value with mean\n",
    "Sec_inv_mis.fillna({\"UnitQty\":Sec_inv_mis['UnitQty'].mean().round(1)}, inplace=True)"
   ]
  },
  {
   "cell_type": "code",
   "execution_count": 26,
   "id": "ancient-lafayette",
   "metadata": {},
   "outputs": [
    {
     "data": {
      "text/html": [
       "<div>\n",
       "<style scoped>\n",
       "    .dataframe tbody tr th:only-of-type {\n",
       "        vertical-align: middle;\n",
       "    }\n",
       "\n",
       "    .dataframe tbody tr th {\n",
       "        vertical-align: top;\n",
       "    }\n",
       "\n",
       "    .dataframe thead th {\n",
       "        text-align: right;\n",
       "    }\n",
       "</style>\n",
       "<table border=\"1\" class=\"dataframe\">\n",
       "  <thead>\n",
       "    <tr style=\"text-align: right;\">\n",
       "      <th></th>\n",
       "      <th>Date</th>\n",
       "      <th>UnitQty</th>\n",
       "    </tr>\n",
       "  </thead>\n",
       "  <tbody>\n",
       "    <tr>\n",
       "      <th>0</th>\n",
       "      <td>2018-11-04</td>\n",
       "      <td>307.0</td>\n",
       "    </tr>\n",
       "    <tr>\n",
       "      <th>1</th>\n",
       "      <td>2018-11-11</td>\n",
       "      <td>7505.0</td>\n",
       "    </tr>\n",
       "    <tr>\n",
       "      <th>2</th>\n",
       "      <td>2018-11-18</td>\n",
       "      <td>5488.0</td>\n",
       "    </tr>\n",
       "    <tr>\n",
       "      <th>3</th>\n",
       "      <td>2018-11-25</td>\n",
       "      <td>5944.0</td>\n",
       "    </tr>\n",
       "    <tr>\n",
       "      <th>4</th>\n",
       "      <td>2018-12-02</td>\n",
       "      <td>6011.2</td>\n",
       "    </tr>\n",
       "    <tr>\n",
       "      <th>5</th>\n",
       "      <td>2018-12-09</td>\n",
       "      <td>4210.0</td>\n",
       "    </tr>\n",
       "    <tr>\n",
       "      <th>6</th>\n",
       "      <td>2018-12-16</td>\n",
       "      <td>5559.0</td>\n",
       "    </tr>\n",
       "    <tr>\n",
       "      <th>7</th>\n",
       "      <td>2018-12-23</td>\n",
       "      <td>8620.0</td>\n",
       "    </tr>\n",
       "    <tr>\n",
       "      <th>8</th>\n",
       "      <td>2018-12-30</td>\n",
       "      <td>3620.0</td>\n",
       "    </tr>\n",
       "    <tr>\n",
       "      <th>9</th>\n",
       "      <td>2019-01-06</td>\n",
       "      <td>9335.0</td>\n",
       "    </tr>\n",
       "  </tbody>\n",
       "</table>\n",
       "</div>"
      ],
      "text/plain": [
       "        Date  UnitQty\n",
       "0 2018-11-04    307.0\n",
       "1 2018-11-11   7505.0\n",
       "2 2018-11-18   5488.0\n",
       "3 2018-11-25   5944.0\n",
       "4 2018-12-02   6011.2\n",
       "5 2018-12-09   4210.0\n",
       "6 2018-12-16   5559.0\n",
       "7 2018-12-23   8620.0\n",
       "8 2018-12-30   3620.0\n",
       "9 2019-01-06   9335.0"
      ]
     },
     "execution_count": 26,
     "metadata": {},
     "output_type": "execute_result"
    }
   ],
   "source": [
    "Sec_inv_grp = Sec_inv_mis.sort_index()\n",
    "Sec_inv_grp.head(10)"
   ]
  },
  {
   "cell_type": "code",
   "execution_count": null,
   "id": "hungarian-fiction",
   "metadata": {},
   "outputs": [],
   "source": []
  },
  {
   "cell_type": "code",
   "execution_count": 27,
   "id": "composite-laugh",
   "metadata": {},
   "outputs": [],
   "source": [
    "#Pro1_inv_Nor_Sm = Pro1_inv_Nor_Sm.reset_index()\n",
    "train = Sec_inv_grp.loc[Sec_inv_grp['Date'] <= \"2019-11-30\"]\n",
    "train = train.set_index('Date')\n",
    "## test set has been allocated train - 2 weeks ****** special case\n",
    "test = Sec_inv_grp.loc[Sec_inv_grp['Date'] >= \"2019-11-17\"]\n",
    "test = test.set_index('Date')"
   ]
  },
  {
   "cell_type": "code",
   "execution_count": null,
   "id": "historical-dryer",
   "metadata": {},
   "outputs": [],
   "source": []
  },
  {
   "cell_type": "code",
   "execution_count": 28,
   "id": "bottom-discrimination",
   "metadata": {},
   "outputs": [],
   "source": [
    "train = train.reset_index()\n",
    "train_series = train['UnitQty'].squeeze()"
   ]
  },
  {
   "cell_type": "code",
   "execution_count": null,
   "id": "collected-interpretation",
   "metadata": {},
   "outputs": [],
   "source": []
  },
  {
   "cell_type": "code",
   "execution_count": 29,
   "id": "patient-present",
   "metadata": {},
   "outputs": [],
   "source": [
    "# univariate data preparation\n",
    "from numpy import array\n",
    " \n",
    "# split a univariate sequence into samples\n",
    "def split_sequence(sequence, n_steps):\n",
    "    X, y = list(), list()\n",
    "    for i in range(len(sequence)):\n",
    "        # find the end of this pattern\n",
    "        end_ix = i + n_steps\n",
    "        # check if we are beyond the sequence\n",
    "        if end_ix > len(sequence)-1:\n",
    "            break\n",
    "        # gather input and output parts of the pattern\n",
    "        seq_x, seq_y = sequence[i:end_ix], sequence[end_ix]\n",
    "        X.append(seq_x)\n",
    "        y.append(seq_y)\n",
    "    return array(X), array(y)\n",
    " \n",
    "# define input sequence\n",
    "raw_seq = train_series\n",
    "# choose a number of time steps\n",
    "n_steps = 3\n",
    "# split into samples\n",
    "X, y = split_sequence(raw_seq, n_steps)\n",
    "# summarize the data and print\n",
    "#for i in range(len(X)):\n",
    "#    print(X[i], y[i])"
   ]
  },
  {
   "cell_type": "code",
   "execution_count": 30,
   "id": "fossil-terry",
   "metadata": {},
   "outputs": [],
   "source": [
    "# reshape from [samples, timesteps] into [samples, timesteps, features]\n",
    "n_features = 1\n",
    "X = X.reshape((X.shape[0], X.shape[1], n_features))"
   ]
  },
  {
   "cell_type": "code",
   "execution_count": null,
   "id": "incredible-guide",
   "metadata": {},
   "outputs": [],
   "source": []
  },
  {
   "cell_type": "code",
   "execution_count": 31,
   "id": "afraid-astrology",
   "metadata": {},
   "outputs": [],
   "source": [
    "# define model\n",
    "model = Sequential()\n",
    "model.add(Conv1D(filters=64, kernel_size=2, activation='relu', input_shape=(n_steps, n_features)))\n",
    "model.add(MaxPooling1D(pool_size=2))\n",
    "model.add(Flatten())\n",
    "model.add(Dense(50, activation='relu'))\n",
    "model.add(Dense(1))\n",
    "model.compile(optimizer='adam', loss='mse')"
   ]
  },
  {
   "cell_type": "code",
   "execution_count": 32,
   "id": "recorded-election",
   "metadata": {},
   "outputs": [
    {
     "data": {
      "text/plain": [
       "<keras.callbacks.History at 0x24cfa300a60>"
      ]
     },
     "execution_count": 32,
     "metadata": {},
     "output_type": "execute_result"
    }
   ],
   "source": [
    "# fit model\n",
    "model.fit(X, y, epochs=1000, verbose=0)"
   ]
  },
  {
   "cell_type": "code",
   "execution_count": 33,
   "id": "living-simulation",
   "metadata": {},
   "outputs": [],
   "source": [
    "test = test.reset_index()\n",
    "test_series = test['UnitQty'].squeeze()"
   ]
  },
  {
   "cell_type": "code",
   "execution_count": 34,
   "id": "damaged-gauge",
   "metadata": {},
   "outputs": [],
   "source": [
    "## add dumy value to end of seris\n",
    "test_series.idxmax()\n",
    "new_index = test_series.idxmax()+1\n",
    "test_series = test_series.append(pd.Series(0, index=[new_index]))"
   ]
  },
  {
   "cell_type": "code",
   "execution_count": 35,
   "id": "together-former",
   "metadata": {},
   "outputs": [],
   "source": [
    "\n",
    "# define input sequence\n",
    "raw_seq = test_series\n",
    "# choose a number of time steps\n",
    "n_steps = 3\n",
    "# split into samples\n",
    "X, y = split_sequence(raw_seq, n_steps)\n"
   ]
  },
  {
   "cell_type": "code",
   "execution_count": null,
   "id": "economic-status",
   "metadata": {},
   "outputs": [],
   "source": []
  },
  {
   "cell_type": "code",
   "execution_count": 36,
   "id": "collective-savannah",
   "metadata": {},
   "outputs": [],
   "source": [
    "predictions = []"
   ]
  },
  {
   "cell_type": "code",
   "execution_count": 37,
   "id": "painted-foundation",
   "metadata": {},
   "outputs": [],
   "source": [
    "# define input sequence\n",
    "raw_seq = test_series\n",
    "# choose a number of time steps\n",
    "n_steps = 3\n",
    "# split into samples\n",
    "X, y = split_sequence(raw_seq, n_steps)\n",
    "# summarize the data\n",
    "for i in range(len(X)):\n",
    "    #print(X[i])\n",
    "    # demonstrate prediction\n",
    "    x_input = array(X[i])\n",
    "    x_input = x_input.reshape((1, n_steps, n_features))\n",
    "    yhat = model.predict(x_input, verbose=0)\n",
    "    predictions.append(yhat[0][0])\n",
    "    #print(yhat[0][0])"
   ]
  },
  {
   "cell_type": "code",
   "execution_count": null,
   "id": "cellular-magnitude",
   "metadata": {},
   "outputs": [],
   "source": []
  },
  {
   "cell_type": "code",
   "execution_count": 38,
   "id": "polished-volume",
   "metadata": {},
   "outputs": [],
   "source": [
    "## purposely duplicated for indexes\n",
    "train = Sec_inv_grp.loc[Sec_inv_grp['Date'] <= \"2019-11-30\"]\n",
    "train = train.set_index('Date')\n",
    "test = Sec_inv_grp.loc[Sec_inv_grp['Date'] > \"2019-11-30\"]\n",
    "test = test.set_index('Date')"
   ]
  },
  {
   "cell_type": "code",
   "execution_count": 39,
   "id": "greek-tiger",
   "metadata": {},
   "outputs": [],
   "source": [
    "# get array data to DF with date index\n",
    "Prd_Results = pd.DataFrame(data = predictions, columns = ['UnitQty'], index = test.index.copy())"
   ]
  },
  {
   "cell_type": "code",
   "execution_count": null,
   "id": "reliable-latino",
   "metadata": {},
   "outputs": [],
   "source": []
  },
  {
   "cell_type": "code",
   "execution_count": null,
   "id": "forbidden-regression",
   "metadata": {},
   "outputs": [],
   "source": []
  },
  {
   "cell_type": "code",
   "execution_count": 40,
   "id": "sorted-novelty",
   "metadata": {},
   "outputs": [],
   "source": [
    "# get array data to DF with date index\n",
    "Prd_Results = pd.DataFrame(data = predictions, columns = ['UnitQty'], index = test.index.copy())"
   ]
  },
  {
   "cell_type": "code",
   "execution_count": 41,
   "id": "duplicate-prague",
   "metadata": {},
   "outputs": [
    {
     "name": "stdout",
     "output_type": "stream",
     "text": [
      "RMSE: 4506.216779\n"
     ]
    }
   ],
   "source": [
    "from sklearn.metrics import mean_squared_error\n",
    "from math import sqrt\n",
    "mse = mean_squared_error(test, Prd_Results)\n",
    "rmse = sqrt(mse)\n",
    "print('RMSE: %f' % rmse)"
   ]
  },
  {
   "cell_type": "code",
   "execution_count": 42,
   "id": "registered-vampire",
   "metadata": {},
   "outputs": [
    {
     "data": {
      "text/plain": [
       "<matplotlib.legend.Legend at 0x24c9eb0b790>"
      ]
     },
     "execution_count": 42,
     "metadata": {},
     "output_type": "execute_result"
    },
    {
     "data": {
      "image/png": "[encoded data removed]",
      "text/plain": [
       "<Figure size 1080x360 with 1 Axes>"
      ]
     },
     "metadata": {
      "needs_background": "light"
     },
     "output_type": "display_data"
    }
   ],
   "source": [
    "plt.plot(test)\n",
    "plt.plot(Prd_Results)\n",
    "plt.legend(['test', 'predicted'])"
   ]
  },
  {
   "cell_type": "code",
   "execution_count": null,
   "id": "returning-affiliate",
   "metadata": {},
   "outputs": [],
   "source": []
  },
  {
   "cell_type": "code",
   "execution_count": null,
   "id": "negative-screw",
   "metadata": {},
   "outputs": [],
   "source": []
  },
  {
   "cell_type": "code",
   "execution_count": null,
   "id": "indonesian-hungary",
   "metadata": {},
   "outputs": [],
   "source": []
  }
 ],
 "metadata": {
  "kernelspec": {
   "display_name": "Python 3",
   "language": "python",
   "name": "python3"
  },
  "language_info": {
   "codemirror_mode": {
    "name": "ipython",
    "version": 3
   },
   "file_extension": ".py",
   "mimetype": "text/x-python",
   "name": "python",
   "nbconvert_exporter": "python",
   "pygments_lexer": "ipython3",
   "version": "3.9.1"
  }
 },
 "nbformat": 4,
 "nbformat_minor": 5
}
